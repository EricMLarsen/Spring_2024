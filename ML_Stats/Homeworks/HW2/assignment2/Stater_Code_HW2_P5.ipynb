{
  "nbformat": 4,
  "nbformat_minor": 0,
  "metadata": {
    "colab": {
      "provenance": []
    },
    "kernelspec": {
      "name": "python3",
      "display_name": "Python 3"
    },
    "language_info": {
      "name": "python"
    }
  },
  "cells": [
    {
      "cell_type": "code",
      "execution_count": null,
      "metadata": {
        "id": "ZhtotYeNYCrq"
      },
      "outputs": [],
      "source": [
        "class LogisticRegression:\n",
        "    \n",
        "    def __init__(self, lr = 0.01, lamb = 10, num_iter = 1000, fit_intercept = True):\n",
        "        self.lr = lr\n",
        "        self.lamb = lamb\n",
        "        self.num_iter = num_iter\n",
        "        self.fit_intercept = fit_intercept\n",
        "    \n",
        "    def __add_intercept(self, X):\n",
        "        '''This function adds an offset term'''\n",
        "        intercept = np.ones((X.shape[0], 1))\n",
        "        return np.concatenate((intercept, X), axis=1) \n",
        "    \n",
        "    def __sigmoid(self, z):\n",
        "        '''***Define Sigmoid Function here. z is a vector***'''\n",
        "    \n",
        "    def fit(self, X, y):\n",
        "        if self.fit_intercept:\n",
        "            X = self.__add_intercept(X)\n",
        "        \n",
        "        # weights initialization\n",
        "        self.theta = '''***Initialize theta. What should be the dimension of theta?***'''\n",
        "        \n",
        "        for i in range(self.num_iter):\n",
        "            z = ... '''Implement x^T(theta)'''\n",
        "            h = self.__sigmoid(z)\n",
        "            \n",
        "            '''***[Critical Step] - Using the formula in question prompt define gradient in vector form***'''\n",
        "            gradient = ...\n",
        "            \n",
        "            '''***[Critical Step] - Update theta using the gradient and learning rate***'''\n",
        "            self.theta -= ...\n",
        "    \n",
        "    def predict_prob(self, X):\n",
        "      ''' This function outputs the predicted probablities'''\n",
        "        if self.fit_intercept:\n",
        "            X = self.__add_intercept(X)\n",
        "    \n",
        "        return self.__sigmoid(np.dot(X, self.theta))\n",
        "    \n",
        "    def predict(self, X, threshold):\n",
        "      ''' This function outputs the predicted labels'''\n",
        "        # usually we take threshold as 0.5\n",
        "        return self.predict_prob(X) >= threshold"
      ]
    },
    {
      "cell_type": "code",
      "source": [
        "'''***Select an appropriate lambda parameter***'''\n",
        "model = LogisticRegression(lamb = ...) \n",
        "model.fit(X_train, y_train) \n",
        "\n",
        "# Generate Predictions\n",
        "preds = model.predict(X_test, threshold = 0.5)\n",
        "\n",
        "# accuracy\n",
        "'''***As you try different lambda observe and report how accuracy changes***'''\n",
        "(preds == y_test).mean()"
      ],
      "metadata": {
        "id": "4PujuQNkZI9Z"
      },
      "execution_count": null,
      "outputs": []
    }
  ]
}