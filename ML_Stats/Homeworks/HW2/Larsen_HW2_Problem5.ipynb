{
 "cells": [
  {
   "cell_type": "code",
   "execution_count": 335,
   "id": "78cd26fa893c1629",
   "metadata": {
    "collapsed": true,
    "ExecuteTime": {
     "end_time": "2024-02-09T00:26:44.390236Z",
     "start_time": "2024-02-09T00:26:44.383105700Z"
    }
   },
   "outputs": [],
   "source": [
    "import numpy as np\n",
    "import pandas as pd\n",
    "import sklearn.model_selection\n",
    "import matplotlib.pyplot as plt"
   ]
  },
  {
   "cell_type": "code",
   "execution_count": 336,
   "outputs": [],
   "source": [
    "\n",
    "class LogisticRegression:\n",
    "    def __init__(self, lr = 0.01, lamb = 10, num_iter = 1000, fit_intercept = True):\n",
    "        self.lr = lr\n",
    "        self.lamb = lamb\n",
    "        self.num_iter = num_iter\n",
    "        self.fit_intercept = fit_intercept\n",
    "    def __add_intercept(self, X):\n",
    "        #Adds the \n",
    "        intercept = np.ones((X.shape[0], 1))\n",
    "        #adds the column of 1 at the beginning of the array, X is just the loop of the training data\n",
    "        return np.concatenate((intercept, X), axis=1)\n",
    "    def __sigmoid(self, z):\n",
    "        '''***Define Sigmoid Function here. z is a vector***'''\n",
    "        sigmoid = 1/(1+np.e**(-z))\n",
    "        return sigmoid\n",
    "    def fit(self, X, y):\n",
    "        #Set up the randomized weight vector of size d for x size vector\n",
    "        np.random.seed(0)\n",
    "        weights = np.random.normal(1,0.33,X.shape[1])\n",
    "        w_0 = np.asarray(0).reshape(1)\n",
    "        if self.fit_intercept:\n",
    "            X = self.__add_intercept(X)\n",
    "        # theta initialization as a column vector, given w0 and the weights initialization\n",
    "        self.theta = np.concatenate((w_0,weights),axis=0)\n",
    "        for i in range(self.num_iter):\n",
    "            #each of the X vectors will be a row vector, will give back a n x 1 matrix\n",
    "            # print(f'shape of X: {X.shape}')\n",
    "            #print(f'shape of theta: {self.theta.shape}')\n",
    "            z = np.matmul(X,self.theta)\n",
    "            a = self.__sigmoid(z)\n",
    "            # print(f'shape of z: {z.shape}')\n",
    "            # print(f'shape of a: {a.shape}')\n",
    "            # print(f'shape of Y: {y.shape}')\n",
    "            '''***[Critical Step] - Using the formula in question prompt define gradient in vector form***'''\n",
    "            #vector to set up what the total will be\n",
    "            vec = np.zeros(X.shape[1])\n",
    "            #Loop through all of the rows\n",
    "            for j in range(X.shape[1]):\n",
    "                #get the leading coefficient\n",
    "                #from equation (a-y) vectors\n",
    "                leadco = a[j]-y[j] \n",
    "                #sum vector is lead co by the current X row with all columns in it\n",
    "                vec += leadco*X[j,:]\n",
    "            #normalize the vec vector\n",
    "            vec = vec/X.shape[0]\n",
    "            #Make sure the vector is a column vector before adding them together\n",
    "            vec = np.asarray(vec).transpose()\n",
    "            #Regularization term, #column vector\n",
    "            #make sure the reg theta term does not have the bias point in it\n",
    "            reg_vec = np.zeros_like(self.theta)\n",
    "            reg_vec[1:] = 2*self.lamb*self.theta[1:]\n",
    "            #Getting the gradient vector\n",
    "            gradient = vec + reg_vec\n",
    "            grad_new = gradient\n",
    "            if i == 1:\n",
    "                grad_old = np.zeros(X.shape[1])\n",
    "            if i != 1:\n",
    "                grad_old = grad_new\n",
    "            #print(grad_old-grad_new)\n",
    "            '''***[Critical Step] - Update theta using the gradient and learning rate***'''\n",
    "            #need an implementation of theta, theta is our weights + the 1 at the front, basically the w_tilde from equation\n",
    "            self.theta -= -gradient*self.lr\n",
    "    def predict_prob(self, X):\n",
    "        if self.fit_intercept:\n",
    "            X = self.__add_intercept(X)\n",
    "        return self.__sigmoid(np.dot(X, self.theta))\n",
    "    def predict(self, X, threshold):\n",
    "        ''' This function outputs the predicted labels'''\n",
    "        # usually we take threshold as 0.5\n",
    "        return self.predict_prob(X) >= threshold\n",
    "    def report_weights(self):\n",
    "        return self.theta\n",
    "    "
   ],
   "metadata": {
    "collapsed": false,
    "ExecuteTime": {
     "end_time": "2024-02-09T00:26:44.410402500Z",
     "start_time": "2024-02-09T00:26:44.390236Z"
    }
   },
   "id": "7df84a570762e2ba"
  },
  {
   "cell_type": "code",
   "execution_count": 337,
   "outputs": [
    {
     "name": "stdout",
     "output_type": "stream",
     "text": [
      "106\n"
     ]
    }
   ],
   "source": [
    "#Loading the data\n",
    "import pandas as pd\n",
    "data = np.genfromtxt('assignment2/ex2data2.txt',delimiter=',',dtype=float)\n",
    "\n",
    "X_var = data[:,:-1]\n",
    "Y_var = data[:,-1].reshape(data.shape[0],1)\n",
    "X_1 = X_var[:,0].reshape(X_var.shape[0],1)\n",
    "X_2 = X_var[:,1].reshape(X_var.shape[0],1)\n",
    "\n",
    "#desired number of polynomial orders\n",
    "poly = [2,3,4,5,6]\n",
    "#Loop through all desired polys\n",
    "for i in poly:\n",
    "    #first order poly we can skip because it is given in X_var\n",
    "    for j in range(i+1):\n",
    "        #will loop through 0,1...poly\n",
    "        var1 = X_1**(i-j)\n",
    "        var2 = X_2**(j)\n",
    "        X_var = np.concatenate((X_var,np.asarray(var1*var2)),axis=1)\n",
    "\n",
    "#Putt all the data back together so we can shuffle it\n",
    "data_mapped = np.concatenate((X_var,Y_var),axis=1)\n",
    "\n",
    "#Randomize the data \n",
    "np.random.seed(0) #setting the random seed\n",
    "rp = np.random.permutation(data_mapped.shape[0]) #random set of the indices given the seed\n",
    "z = data_mapped[rp,:]#shuffling the rows of the data\n",
    "x = z[:,:-1] #all but the last index of label\n",
    "y = z[:,-1] #only the last row\n",
    "\n",
    "#Now we have the data into a randomized form from before using this random function\n",
    "\n",
    "#Now let us split this up into the train and test split, for this we are going to use an 90,10 split to keep it easy enough\n",
    "X_train, X_test, y_train, y_test = sklearn.model_selection.train_test_split(x,y,test_size=0.1,random_state=None)\n",
    "\n",
    "print(len(X_train))"
   ],
   "metadata": {
    "collapsed": false,
    "ExecuteTime": {
     "end_time": "2024-02-09T00:26:44.417496400Z",
     "start_time": "2024-02-09T00:26:44.402328300Z"
    }
   },
   "id": "901aefe13de2e733"
  },
  {
   "cell_type": "code",
   "execution_count": 344,
   "outputs": [
    {
     "name": "stdout",
     "output_type": "stream",
     "text": [
      "[ 0.37620791 12.32408917  9.37389056 10.36414306 12.84821886 12.9255055\n",
      "  5.31889921  9.70218216  7.23600405  7.85762946  8.73446975  7.61169948\n",
      " 11.17129895  9.27403459  8.32126492  8.6539494   8.12759363 11.10542097\n",
      "  6.93971867  8.25157146  5.80593824  1.384425    8.87128359  9.60455554\n",
      "  5.53185551 13.01313509  3.89307057  7.92647685]\n"
     ]
    },
    {
     "data": {
      "text/plain": "0.3333333333333333"
     },
     "execution_count": 344,
     "metadata": {},
     "output_type": "execute_result"
    }
   ],
   "source": [
    "'''***Select an appropriate lambda parameter***'''\n",
    "model = LogisticRegression(lamb = 0.1,lr=0.01)\n",
    "model.fit(X_train, y_train)\n",
    "# Generate Predictions\n",
    "preds = model.predict(X_test, threshold = 0.5)\n",
    "weights = model.report_weights()\n",
    "print(weights)\n",
    "# accuracy\n",
    "'''***As you try different lambda observe and report how accuracy changes***'''\n",
    "(preds == y_test).mean()\n"
   ],
   "metadata": {
    "collapsed": false,
    "ExecuteTime": {
     "end_time": "2024-02-09T00:35:45.115750300Z",
     "start_time": "2024-02-09T00:35:45.018839500Z"
    }
   },
   "id": "7da1b9ddada97ef4"
  },
  {
   "cell_type": "code",
   "execution_count": 339,
   "outputs": [
    {
     "name": "stderr",
     "output_type": "stream",
     "text": [
      "C:\\Users\\Eric_Larsen\\AppData\\Local\\Temp\\ipykernel_16916\\4018602432.py:14: RuntimeWarning: overflow encountered in power\n",
      "  sigmoid = 1/(1+np.e**(-z))\n"
     ]
    },
    {
     "data": {
      "text/plain": "Text(0, 0.5, 'Accuracy')"
     },
     "execution_count": 339,
     "metadata": {},
     "output_type": "execute_result"
    },
    {
     "data": {
      "text/plain": "<Figure size 640x480 with 1 Axes>",
      "image/png": "[encoded data removed]"
     },
     "metadata": {},
     "output_type": "display_data"
    }
   ],
   "source": [
    "#Looping through and trying different learning rates\n",
    "n = 60\n",
    "learning_rates = np.linspace(0,0.5,num=n)\n",
    "acc_array=[]\n",
    "for i in learning_rates:\n",
    "    model = LogisticRegression(lamb=0.1,lr=i)\n",
    "    model.fit(X_train,y_train)\n",
    "    preds = model.predict(X_test,threshold=0.5)\n",
    "    #accuracry score\n",
    "    acc_array.append( (preds == y_test).mean())\n",
    "\n",
    "#Plotting the results\n",
    "\n",
    "plt.figure()\n",
    "plt.plot(learning_rates,acc_array,label='test acc')\n",
    "plt.xlabel('Learning Rate')\n",
    "plt.ylabel('Accuracy')\n",
    "    "
   ],
   "metadata": {
    "collapsed": false,
    "ExecuteTime": {
     "end_time": "2024-02-09T00:26:49.807734100Z",
     "start_time": "2024-02-09T00:26:44.511369800Z"
    }
   },
   "id": "9c37cd0530555b41"
  },
  {
   "cell_type": "code",
   "execution_count": 343,
   "outputs": [
    {
     "name": "stdout",
     "output_type": "stream",
     "text": [
      "LR Error: 0.25\n"
     ]
    },
    {
     "data": {
      "text/plain": "<Figure size 640x480 with 2 Axes>",
      "image/png": "[encoded data removed]"
     },
     "metadata": {},
     "output_type": "display_data"
    }
   ],
   "source": [
    "#Okay we need a sanity check, so we are going to use a built in function for this to check\n",
    "import sklearn.metrics as skm\n",
    "from sklearn.linear_model import LogisticRegression as LR\n",
    "import seaborn as sn\n",
    "#Fit the model\n",
    "model = LR(C=0.1,penalty='l2')\n",
    "model.fit(X_train,y_train)\n",
    "y_pred = model.predict(X_test)\n",
    "#get confusion matrix\n",
    "cm = skm.confusion_matrix(y_test,y_pred)\n",
    "\n",
    "CM_LR_fig = plt.figure()\n",
    "sn.heatmap(cm,annot=True,cmap='crest')\n",
    "plt.ylabel('True Label')\n",
    "plt.xlabel('Predicted Label')\n",
    "plt.savefig('assignment2/CM_LR.png',dpi=300)\n",
    "print(f'LR Error: {round(1- np.sum(np.diag(cm))/np.sum(cm),5)}')"
   ],
   "metadata": {
    "collapsed": false,
    "ExecuteTime": {
     "end_time": "2024-02-09T00:32:23.513721700Z",
     "start_time": "2024-02-09T00:32:23.256700200Z"
    }
   },
   "id": "initial_id"
  }
 ],
 "metadata": {
  "kernelspec": {
   "display_name": "Python 3",
   "language": "python",
   "name": "python3"
  },
  "language_info": {
   "codemirror_mode": {
    "name": "ipython",
    "version": 2
   },
   "file_extension": ".py",
   "mimetype": "text/x-python",
   "name": "python",
   "nbconvert_exporter": "python",
   "pygments_lexer": "ipython2",
   "version": "2.7.6"
  }
 },
 "nbformat": 4,
 "nbformat_minor": 5
}
