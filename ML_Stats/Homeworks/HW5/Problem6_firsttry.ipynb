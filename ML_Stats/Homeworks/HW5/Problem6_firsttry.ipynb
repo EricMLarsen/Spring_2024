{
 "cells": [
  {
   "cell_type": "code",
   "execution_count": 64,
   "metadata": {},
   "outputs": [],
   "source": [
    "#import needed packages\n",
    "import numpy as np\n",
    "import pandas as pd\n",
    "import matplotlib.pyplot as plt\n",
    "import random\n",
    "import sklearn as sk\n",
    "import scipy.io as sio"
   ]
  },
  {
   "cell_type": "code",
   "execution_count": 65,
   "metadata": {},
   "outputs": [],
   "source": [
    "#Function Section\n",
    "\n",
    "def gaussian_kernel(x1, x2, h):\n",
    "    x1 = x1.reshape(-1, 1)\n",
    "    x2 = x2.reshape(-1, 1)\n",
    "    return np.exp(-0.5 * ((x1 - x2) / h)**2) / np.sqrt(2 * np.pi)\n",
    "\n",
    "def kde(x, X, h):\n",
    "    n = len(X)\n",
    "    distances = cdist(np.array([x]).reshape(1, -1), X.reshape(1, -1), metric='euclidean')\n",
    "    kernel_values = np.exp(-0.5 * (distances / h)**2) / np.sqrt(2 * np.pi)\n",
    "    return np.sum(kernel_values) / (n * h)\n",
    "\n",
    "def leave_one_out_cross_validation(X, h_values):\n",
    "    n = len(X)\n",
    "    cv_scores = []\n",
    "    for h in h_values:\n",
    "        score_sum = 0\n",
    "        for i in range(n):\n",
    "            X_temp = X.copy()\n",
    "            X_temp[i] = 0\n",
    "            f_hat_i = kde(X[i], X_temp[X_temp != 0], h)\n",
    "            score_sum += (f_hat_i - 1/(n-1))**2\n",
    "        cv_scores.append(score_sum)\n",
    "    return h_values[np.argmin(cv_scores)]\n"
   ]
  },
  {
   "cell_type": "code",
   "execution_count": 66,
   "metadata": {},
   "outputs": [
    {
     "name": "stdout",
     "output_type": "stream",
     "text": [
      "xtest point1: 2.85\n",
      "xtest point2: -1.5\n"
     ]
    }
   ],
   "source": [
    "#load data from matrix file, anomaly\n",
    "\n",
    "dataset = sio.loadmat('Data/anomaly.mat')\n",
    "X = dataset['X']\n",
    "xtest1 = dataset['xtest1'][0][0]\n",
    "xtest2 = dataset['xtest2'][0][0]\n",
    "\n",
    "\n",
    "#from this file we have the X value, but we need to find the density function f\n",
    "\n",
    "print(f'xtest point1: {xtest1}')\n",
    "print(f'xtest point2: {xtest2}')"
   ]
  },
  {
   "cell_type": "code",
   "execution_count": 67,
   "metadata": {},
   "outputs": [
    {
     "name": "stdout",
     "output_type": "stream",
     "text": [
      "Selected Bandwidth: 2.0\n"
     ]
    }
   ],
   "source": [
    "#Part A) Selecting the bandwidth parameters, use a grid search method to test multiple values\n",
    "\n",
    "def gaussian_kernel(x1, x2, h):\n",
    "    return np.exp(-0.5 * ((x1 - x2) / h)**2) / np.sqrt(2 * np.pi)\n",
    "\n",
    "def kde(x, X, h):\n",
    "    n = len(X)\n",
    "    kernel_values = [gaussian_kernel(x, xi, h) for xi in X]\n",
    "    return np.sum(kernel_values) / (n * h)\n",
    "\n",
    "def leave_one_out_estimator(X, h_values):\n",
    "    n = len(X)\n",
    "    best_bandwidth = None\n",
    "    min_cv_error = float('inf')\n",
    "    for h in h_values:\n",
    "        cv_error_sum = 0\n",
    "        for i in range(n):\n",
    "            X_temp = np.delete(X, i)  # Remove one point from X\n",
    "            f_hat_minus_i = kde(X[i], X_temp, h)\n",
    "            if n - 1 == 0:  # Check if (n - 1) is zero\n",
    "                cv_error_sum += f_hat_minus_i**2  # Handle division by zero by using f_hat_minus_i directly\n",
    "            else:\n",
    "                cv_error_sum += (f_hat_minus_i - 1 / (n - 1))**2\n",
    "        cv_error = cv_error_sum / n\n",
    "        if cv_error < min_cv_error:\n",
    "            min_cv_error = cv_error\n",
    "            best_bandwidth = h\n",
    "    return best_bandwidth\n",
    "\n",
    "# Define the range of bandwidth values to search\n",
    "h_values = np.linspace(0.01, 2, 100)\n",
    "\n",
    "# Perform leave-one-out cross-validation for bandwidth selection\n",
    "selected_bandwidth = leave_one_out_estimator(X, h_values)\n",
    "print(\"Selected Bandwidth:\", selected_bandwidth)"
   ]
  },
  {
   "cell_type": "code",
   "execution_count": 68,
   "metadata": {},
   "outputs": [
    {
     "name": "stdout",
     "output_type": "stream",
     "text": [
      "Selected Bandwidth: 2.0\n"
     ]
    },
    {
     "data": {
      "image/png": "[encoded data removed]",
      "text/plain": [
       "<Figure size 432x288 with 1 Axes>"
      ]
     },
     "metadata": {
      "needs_background": "light"
     },
     "output_type": "display_data"
    },
    {
     "name": "stdout",
     "output_type": "stream",
     "text": [
      "OutlierScore1 for xtest1: 0.6791207476361262\n",
      "OutlierScore1 for xtest2: 0.6327715596307217\n",
      "OutlierScore2 for xtest1 (k=10): 1.4724901305909137\n",
      "OutlierScore2 for xtest2 (k=10): 0.11764878714915164\n",
      "OutlierScore2 for xtest1 (k=15): 0.6845953584434721\n",
      "OutlierScore2 for xtest2 (k=15): 0.07286500962103028\n",
      "OutlierScore2 for xtest1 (k=20): 0.3903878149793983\n",
      "OutlierScore2 for xtest2 (k=20): 0.05164086330037248\n",
      "OutlierScore2 for xtest1 (k=50): 0.08153122705153529\n",
      "OutlierScore2 for xtest2 (k=50): 0.01762404077559418\n"
     ]
    }
   ],
   "source": [
    "import numpy as np\n",
    "import scipy.io\n",
    "\n",
    "# Load data\n",
    "data = scipy.io.loadmat('Data/anomaly.mat')\n",
    "X = data['X'].flatten()\n",
    "xtest1 = data['xtest1'][0][0]\n",
    "xtest2 = data['xtest2'][0][0]\n",
    "\n",
    "# (a) Bandwidth selection\n",
    "def gaussian_kernel(x1, x2, h):\n",
    "    return np.exp(-0.5 * ((x1 - x2) / h)**2) / np.sqrt(2 * np.pi)\n",
    "\n",
    "def kde(x, X, h):\n",
    "    n = len(X)\n",
    "    kernel_values = gaussian_kernel(x, X, h)\n",
    "    return np.sum(kernel_values) / (n * h)\n",
    "\n",
    "def leave_one_out_cross_validation(X, h_values):\n",
    "    n = len(X)\n",
    "    cv_scores = []\n",
    "    for h in h_values:\n",
    "        score_sum = 0\n",
    "        for i in range(n):\n",
    "            X_temp = X.copy()\n",
    "            X_temp[i] = 0\n",
    "            f_hat_i = kde(X[i], X_temp[X_temp != 0], h)\n",
    "            score_sum += (f_hat_i - 1/(n-1))**2\n",
    "        cv_scores.append(score_sum)\n",
    "    return h_values[np.argmin(cv_scores)]\n",
    "\n",
    "# Bandwidth selection\n",
    "h_values = np.linspace(0.01, 20, 100)\n",
    "\n",
    "def grid_search_bandwidth(X, h_values):\n",
    "    best_bandwidth = None\n",
    "    best_score = float('inf')  # Initialize best score to a large value\n",
    "    for h in h_values:\n",
    "        score_sum = 0\n",
    "        for i in range(len(X)):\n",
    "            X_temp = X.copy()\n",
    "            X_temp[i] = 0\n",
    "            f_hat_i = kde(X[i], X_temp[X_temp != 0], h)\n",
    "            score_sum += (f_hat_i - 1 / (len(X) - 1)) ** 2\n",
    "        score = score_sum / len(X)\n",
    "        if score < best_score:\n",
    "            best_score = score\n",
    "            best_bandwidth = h\n",
    "    return best_bandwidth\n",
    "\n",
    "# Define the range of bandwidth values to search\n",
    "h_values = np.linspace(0.01, 2, 100)\n",
    "\n",
    "selected_bandwidth = grid_search_bandwidth(X,h_values)\n",
    "\n",
    "#selected_bandwidth = leave_one_out_cross_validation(X, h_values)\n",
    "print(\"Selected Bandwidth:\", selected_bandwidth)\n",
    "\n",
    "# (b) KDE estimation and plotting\n",
    "x_values = np.linspace(-2, 4, 1000)\n",
    "kde_values = [kde(x, X, selected_bandwidth) for x in x_values]\n",
    "plt.plot(x_values, kde_values)\n",
    "plt.title('Kernel Density Estimation')\n",
    "plt.xlabel('x')\n",
    "plt.ylabel('Density')\n",
    "plt.show()\n",
    "\n",
    "# Based on the KDE, the true density f appears to be unimodal and skewed to the right.\n",
    "\n",
    "# (c) OutlierScore1 conceptual interpretation\n",
    "# OutlierScore1 measures the relative density at a point compared to its neighboring points.\n",
    "# If the score is low, it indicates that the point has lower density compared to its neighbors, potentially making it an outlier.\n",
    "# Conversely, a high score suggests that the point's density is similar to its neighbors, making it less likely to be an outlier.\n",
    "\n",
    "# (d) Calculate OutlierScore1 for xtest1 and xtest2\n",
    "def outlier_score_1(x, X, h):\n",
    "    n = len(X)\n",
    "    f_hat_x = kde(x, X, h)\n",
    "    neighbor_sum = np.sum([kde(X[i], X, h) for i in range(n)]) - f_hat_x\n",
    "    return n * f_hat_x / neighbor_sum\n",
    "\n",
    "outlier_score_xtest1 = outlier_score_1(xtest1, X, selected_bandwidth)\n",
    "outlier_score_xtest2 = outlier_score_1(xtest2, X, selected_bandwidth)\n",
    "print(\"OutlierScore1 for xtest1:\", outlier_score_xtest1)\n",
    "print(\"OutlierScore1 for xtest2:\", outlier_score_xtest2)\n",
    "\n",
    "# (e) OutlierScore2 conceptual interpretation\n",
    "# OutlierScore2 is based on the average distance to the k-nearest neighbors.\n",
    "# If a point has a low score, it means it is closer to its neighbors, suggesting it's not an outlier.\n",
    "# Conversely, a high score indicates that the point is farther away from its neighbors, potentially making it an outlier.\n",
    "# This score is related to k-nn density estimation as it also considers the local density of points.\n",
    "\n",
    "# (f) Calculate OutlierScore2 for xtest1 and xtest2 using different values of k\n",
    "def outlier_score_2(x, X, k):\n",
    "    distances = np.abs(X - x)\n",
    "    sorted_indices = np.argsort(distances)\n",
    "    k_nearest_distances = distances[sorted_indices[:k]]\n",
    "    return 1 / (k * np.mean(k_nearest_distances))\n",
    "\n",
    "k_values = [10, 15, 20,50]\n",
    "for k in k_values:\n",
    "    outlier_score_xtest1_2 = outlier_score_2(xtest1, X, k)\n",
    "    outlier_score_xtest2_2 = outlier_score_2(xtest2, X, k)\n",
    "    print(f\"OutlierScore2 for xtest1 (k={k}):\", outlier_score_xtest1_2)\n",
    "    print(f\"OutlierScore2 for xtest2 (k={k}):\", outlier_score_xtest2_2)\n"
   ]
  }
 ],
 "metadata": {
  "kernelspec": {
   "display_name": "Python 3",
   "language": "python",
   "name": "python3"
  },
  "language_info": {
   "codemirror_mode": {
    "name": "ipython",
    "version": 3
   },
   "file_extension": ".py",
   "mimetype": "text/x-python",
   "name": "python",
   "nbconvert_exporter": "python",
   "pygments_lexer": "ipython3",
   "version": "3.10.12"
  }
 },
 "nbformat": 4,
 "nbformat_minor": 2
}
