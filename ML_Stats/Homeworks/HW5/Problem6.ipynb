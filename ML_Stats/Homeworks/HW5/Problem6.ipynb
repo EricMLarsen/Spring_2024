{
 "cells": [
  {
   "cell_type": "code",
   "execution_count": 85,
   "metadata": {},
   "outputs": [],
   "source": [
    "#import needed packages\n",
    "import numpy as np\n",
    "import pandas as pd\n",
    "import matplotlib.pyplot as plt\n",
    "import random\n",
    "import sklearn as sk\n",
    "import scipy.io as sio\n",
    "\n"
   ]
  },
  {
   "cell_type": "code",
   "execution_count": 104,
   "metadata": {},
   "outputs": [],
   "source": [
    "#Function Section\n",
    "\n",
    "#Kernel Funciton \n",
    "def gaussian_kernel_h(x, x_i, bandwidth):\n",
    "    d = 1\n",
    "    distance = np.linalg.norm(x - x_i)\n",
    "    #K_h(y/h) = h^-d k(y/h)\n",
    "    kernel = (1/bandwidth**d)*((2*np.pi)**(-d/2))*np.exp((-1/2)*(distance/bandwidth)**2)\n",
    "    return kernel\n",
    "\n",
    "# Computing the leave one out\n",
    "def compute_leave_one_out_cross_val(data, bandwidth):\n",
    "    loocv_errors = []\n",
    "    for i in range(len(data)):\n",
    "        leave_out_data = np.delete(data, i,0)  # leave out data point at index i, is there a better way than using delete? \n",
    "        kde_estimate = kde(data[i], leave_out_data, bandwidth)\n",
    "        squared_error = (kde_estimate - gaussian_kernel_h(data[i], data[i], bandwidth))**2\n",
    "        loocv_errors.append(squared_error)\n",
    "    return np.sqrt(np.mean(loocv_errors)) #return the RMSE of error\n",
    "\n",
    "# KDE function\n",
    "def kde(x, data, bandwidth):\n",
    "    n = len(data)\n",
    "    kde_estimate = np.zeros_like(x)\n",
    "    for i in range(n):\n",
    "        kde_estimate += gaussian_kernel_h(x, data[i], bandwidth)\n",
    "    return kde_estimate / (n)\n",
    "\n",
    "\n",
    "def compute_kernel_matrix(X, bandwidth):\n",
    "    n = X.shape[0]\n",
    "    # col = X.T\n",
    "    # print(col.shape)\n",
    "    # row = X\n",
    "    # print(row.shape)\n",
    "    # K = gaussian_kernel_h(col, row,bandwidth)\n",
    "    K = np.zeros((n, n))\n",
    "    for i in range(n):\n",
    "        for j in range(n):\n",
    "            K[i, j] = gaussian_kernel_h(X[i], X[j],bandwidth)\n",
    "    return K\n",
    "\n",
    "\n",
    "# Least squared LOOCV algorithm\n",
    "def least_squared_loocv(data):\n",
    "    n = len(data)\n",
    "    min_error = float('inf')\n",
    "    best_bandwidth = None\n",
    "    for bandwidth in np.linspace(0.01, 0.99, 100):  # Adjust the bandwidth range as needed\n",
    "        first_val = 0\n",
    "        #looping through the first element\n",
    "        first_val=np.sum(compute_kernel_matrix(data,np.sqrt(2)*bandwidth))/(n**2)\n",
    "\n",
    "        #loop through the second element\n",
    "        second_mat = compute_kernel_matrix(data,bandwidth)\n",
    "        #remove the diagonal terms, set them equal to zero\n",
    "        second_mat[np.diag_indices_from(second_mat)] = 0\n",
    "        second_val =( np.sum(second_mat)*2)/(n*(n-1))\n",
    "\n",
    "        error = first_val-second_val\n",
    "                \n",
    "        if error < min_error:\n",
    "            min_error = error\n",
    "            best_bandwidth = bandwidth\n",
    "    return best_bandwidth, min_error\n",
    "\n",
    "#outlier score 1 from the document\n",
    "def outlier_score_1(x, X, h):\n",
    "    n = len(X)\n",
    "    f_hat_x = kde(x, X, h)\n",
    "\n",
    "    #loop through the second element\n",
    "    second_mat = compute_kernel_matrix(X,h)\n",
    "    #remove the diagonal terms, set them equal to zero\n",
    "    second_mat[np.diag_indices_from(second_mat)] = 0\n",
    "    second_val =( np.sum(second_mat))/((n-1))\n",
    "    return  f_hat_x / ((1/n)*second_val)\n",
    "\n",
    "#outlier score 2 from the document\n",
    "def outlier_score_2(x, X, k):\n",
    "    #get the distances from x to X matrix\n",
    "    distances = np.abs(X - x)\n",
    "    #sort the array dependent on the distances\n",
    "    sorted_indices = np.argsort(distances)\n",
    "    #pull the Kth distance for the numerator\n",
    "    numerator = distances[sorted_indices[k-1]] #will pull the kth neigbor distance\n",
    "    K_neighbor_array = X[sorted_indices[:k-1]] #pull the K nearest points from data X\n",
    "    #Array of k neighbor distances for k neighbors\n",
    "    K_list = []\n",
    "    #loop through these points to get their kth neigbor distance\n",
    "    for i in range(len(K_neighbor_array)):\n",
    "        y = K_neighbor_array[i]\n",
    "        dist = np.abs(X-y)\n",
    "        sorted_ind = np.argsort(dist)\n",
    "        Kth_neigh = dist[sorted_ind[k]]\n",
    "        K_list.append(Kth_neigh)\n",
    "    K_list = np.asarray(K_list)\n",
    "    denom = (1/k)*np.sum(K_list)\n",
    "    return numerator/denom\n"
   ]
  },
  {
   "cell_type": "code",
   "execution_count": 87,
   "metadata": {},
   "outputs": [
    {
     "name": "stdout",
     "output_type": "stream",
     "text": [
      "xtest point1: 2.85\n",
      "xtest point2: -1.5\n",
      "X set size: (500,)\n"
     ]
    }
   ],
   "source": [
    "#Load the data\n",
    "\n",
    "#load data from matrix file, anomaly\n",
    "\n",
    "dataset = sio.loadmat('Data/anomaly.mat')\n",
    "X = dataset['X'][0]\n",
    "xtest1 = dataset['xtest1'][0][0]\n",
    "xtest2 = dataset['xtest2'][0][0]\n",
    "\n",
    "\n",
    "#from this file we have the X value, but we need to find the density function f\n",
    "\n",
    "print(f'xtest point1: {xtest1}')\n",
    "print(f'xtest point2: {xtest2}')\n",
    "\n",
    "print(f'X set size: {X.shape}')"
   ]
  },
  {
   "cell_type": "code",
   "execution_count": 88,
   "metadata": {},
   "outputs": [
    {
     "name": "stdout",
     "output_type": "stream",
     "text": [
      "Function Value: -0.4297178263881044\n",
      "Optimal bandwidth: 0.07929292929292929\n"
     ]
    }
   ],
   "source": [
    "#Part A) Figure out the bandwidth parameter first\n",
    "\n",
    "#solve for the best bandwidth for the problem\n",
    "optimal_bandwidth, min_error = least_squared_loocv(X)\n",
    "print('Function Value:', min_error)\n",
    "print(\"Optimal bandwidth:\", optimal_bandwidth)\n",
    "\n"
   ]
  },
  {
   "cell_type": "code",
   "execution_count": 89,
   "metadata": {},
   "outputs": [
    {
     "data": {
      "image/png": "[encoded data removed]",
      "text/plain": [
       "<Figure size 432x288 with 1 Axes>"
      ]
     },
     "metadata": {
      "needs_background": "light"
     },
     "output_type": "display_data"
    }
   ],
   "source": [
    "#Getting what the true distribution should look like\n",
    "#plot the kde, from -2 to 4\n",
    "x_values = np.linspace(-2, 4, 500)\n",
    "kde_values = [kde(x, X, optimal_bandwidth) for x in x_values]\n",
    "#Getting the histrogram for a sanity check\n",
    "width = optimal_bandwidth\n",
    "bin_edges = np.arange(-1,4.25,width)3\n",
    "hist, _ = np.histogram(X,bins=bin_edges,density=True)\n",
    "# Plot histogram\n",
    "plt.bar(bin_edges[:-1],hist,width=width,color='blue',label='HIST')\n",
    "plt.title('Histogram and KDE of dataset')\n",
    "plt.plot(x_values, kde_values,color='orange',label='KDE',linewidth='2.5',linestyle='--')\n",
    "plt.xlabel('X_values')\n",
    "plt.ylabel('Density')\n",
    "plt.legend()\n",
    "plt.savefig('Figures/Problem_6_KDEHIST.png',dpi=200)\n",
    "plt.show()"
   ]
  },
  {
   "cell_type": "code",
   "execution_count": 90,
   "metadata": {},
   "outputs": [
    {
     "name": "stdout",
     "output_type": "stream",
     "text": [
      "OutlierScore1 for xtest1: 0.17806559626804877\n",
      "OutlierScore1 for xtest2: 5.715226670509582e-17\n"
     ]
    }
   ],
   "source": [
    "\n",
    "#Part C, outlier score 1\n",
    "\n",
    "\n",
    "outlier_score_xtest1 = outlier_score_1(xtest1, X, optimal_bandwidth)\n",
    "outlier_score_xtest2 = outlier_score_1(xtest2, X, optimal_bandwidth)\n",
    "print(\"OutlierScore1 for xtest1:\", outlier_score_xtest1)\n",
    "print(\"OutlierScore1 for xtest2:\", outlier_score_xtest2)\n",
    "\n"
   ]
  },
  {
   "cell_type": "code",
   "execution_count": 105,
   "metadata": {},
   "outputs": [
    {
     "name": "stdout",
     "output_type": "stream",
     "text": [
      "OutlierScore2 for xtest1 (k=100): 1.418756782153013\n",
      "OutlierScore2 for xtest2 (k=100): 4.420915005732154\n",
      "OutlierScore2 for xtest1 (k=150): 1.7128662374537025\n",
      "OutlierScore2 for xtest2 (k=150): 4.307068805909872\n",
      "OutlierScore2 for xtest1 (k=200): 1.955532464084027\n",
      "OutlierScore2 for xtest2 (k=200): 3.994811265156456\n"
     ]
    }
   ],
   "source": [
    "\n",
    "#Part F, outlier score \n",
    "\n",
    "k_values = [100, 150, 200]\n",
    "for k in k_values:\n",
    "    outlier_score_xtest1_2 = outlier_score_2(xtest1, X, k)\n",
    "    outlier_score_xtest2_2 = outlier_score_2(xtest2, X, k)\n",
    "    print(f\"OutlierScore2 for xtest1 (k={k}):\", outlier_score_xtest1_2)\n",
    "    print(f\"OutlierScore2 for xtest2 (k={k}):\", outlier_score_xtest2_2)\n"
   ]
  }
 ],
 "metadata": {
  "kernelspec": {
   "display_name": "Python 3",
   "language": "python",
   "name": "python3"
  },
  "language_info": {
   "codemirror_mode": {
    "name": "ipython",
    "version": 3
   },
   "file_extension": ".py",
   "mimetype": "text/x-python",
   "name": "python",
   "nbconvert_exporter": "python",
   "pygments_lexer": "ipython3",
   "version": "3.10.12"
  }
 },
 "nbformat": 4,
 "nbformat_minor": 2
}
