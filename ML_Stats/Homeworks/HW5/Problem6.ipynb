{
 "cells": [
  {
   "cell_type": "code",
   "execution_count": 5,
   "metadata": {},
   "outputs": [],
   "source": [
    "#import needed packages\n",
    "import numpy as np\n",
    "import pandas as pd\n",
    "import matplotlib.pyplot as plt\n",
    "import random\n",
    "import sklearn as sk\n",
    "import scipy.io as sio\n",
    "\n"
   ]
  },
  {
   "cell_type": "code",
   "execution_count": 6,
   "metadata": {},
   "outputs": [],
   "source": [
    "#Function Section\n",
    "\n",
    "from scipy.stats import norm\n",
    "\n",
    "def gaussian_kernel(x, x_i, bandwidth):\n",
    "    distance = np.linalg.norm(x - x_i)\n",
    "    kernel = np.exp(-distance**2/(2*bandwidth))\n",
    "    return kernel\n",
    "\n",
    "def kde(x, data, bandwidth):\n",
    "    n = len(data)\n",
    "    kde_estimate = np.zeros_like(x)\n",
    "    for i in range(n):\n",
    "        kde_estimate += gaussian_kernel(x, data[i], bandwidth)\n",
    "    return kde_estimate / n\n",
    "\n",
    "def compute_loocv(data, bandwidth):\n",
    "    loocv_errors = []\n",
    "    for i in range(len(data)):\n",
    "        leave_out_data = np.delete(data, i)  # leave out data point at index i\n",
    "        kde_estimate = kde(data[i], leave_out_data, bandwidth)\n",
    "        squared_error = (kde_estimate - gaussian_kernel(data[i], data[i], bandwidth))**2\n",
    "        loocv_errors.append(squared_error)\n",
    "    return np.mean(loocv_errors)\n"
   ]
  },
  {
   "cell_type": "code",
   "execution_count": 7,
   "metadata": {},
   "outputs": [
    {
     "name": "stdout",
     "output_type": "stream",
     "text": [
      "xtest point1: 2.85\n",
      "xtest point2: -1.5\n"
     ]
    }
   ],
   "source": [
    "#Load the data\n",
    "\n",
    "#load data from matrix file, anomaly\n",
    "\n",
    "dataset = sio.loadmat('Data/anomaly.mat')\n",
    "X = dataset['X']\n",
    "xtest1 = dataset['xtest1'][0][0]\n",
    "xtest2 = dataset['xtest2'][0][0]\n",
    "\n",
    "\n",
    "#from this file we have the X value, but we need to find the density function f\n",
    "\n",
    "print(f'xtest point1: {xtest1}')\n",
    "print(f'xtest point2: {xtest2}')\n",
    "\n"
   ]
  },
  {
   "cell_type": "code",
   "execution_count": 10,
   "metadata": {},
   "outputs": [
    {
     "name": "stdout",
     "output_type": "stream",
     "text": [
      "[1.0, 1.0, 1.0, 1.0, 1.0, 1.0, 1.0, 1.0, 1.0, 1.0, 1.0, 1.0, 1.0, 1.0, 1.0, 1.0, 1.0, 1.0, 1.0, 1.0, 1.0, 1.0, 1.0, 1.0, 1.0, 1.0, 1.0, 1.0, 1.0, 1.0, 1.0, 1.0, 1.0, 1.0, 1.0, 1.0, 1.0, 1.0, 1.0, 1.0, 1.0, 1.0, 1.0, 1.0, 1.0, 1.0, 1.0, 1.0, 1.0, 1.0, 1.0, 1.0, 1.0, 1.0, 1.0, 1.0, 1.0, 1.0, 1.0, 1.0, 1.0, 1.0, 1.0, 1.0, 1.0, 1.0, 1.0, 1.0, 1.0, 1.0, 1.0, 1.0, 1.0, 1.0, 1.0, 1.0, 1.0, 1.0, 1.0, 1.0, 1.0, 1.0, 1.0, 1.0, 1.0, 1.0, 1.0, 1.0, 1.0, 1.0, 1.0, 1.0, 1.0, 1.0, 1.0, 1.0, 1.0, 1.0, 1.0, 1.0]\n",
      "0.1\n"
     ]
    }
   ],
   "source": [
    "#Part A) Figure out the bandwidth parameter first\n",
    "\n",
    "bandwidth_vals = np.linspace(0.1,4,100)\n",
    "\n",
    "loocv_erros = [compute_loocv(X,bandwidth) for bandwidth in bandwidth_vals]\n",
    "\n",
    "opt_band_width = bandwidth_vals[np.argmin(loocv_erros)]\n",
    "\n",
    "print(loocv_erros)\n",
    "print(opt_band_width)"
   ]
  }
 ],
 "metadata": {
  "kernelspec": {
   "display_name": "Python 3",
   "language": "python",
   "name": "python3"
  },
  "language_info": {
   "codemirror_mode": {
    "name": "ipython",
    "version": 3
   },
   "file_extension": ".py",
   "mimetype": "text/x-python",
   "name": "python",
   "nbconvert_exporter": "python",
   "pygments_lexer": "ipython3",
   "version": "3.10.12"
  }
 },
 "nbformat": 4,
 "nbformat_minor": 2
}
