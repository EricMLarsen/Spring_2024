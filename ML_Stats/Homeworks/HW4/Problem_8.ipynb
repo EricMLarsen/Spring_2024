{
 "cells": [
  {
   "cell_type": "code",
   "execution_count": 16,
   "metadata": {},
   "outputs": [],
   "source": [
    "import numpy as np\n",
    "import matplotlib.pyplot as plt\n",
    "from scipy.stats import norm\n"
   ]
  },
  {
   "cell_type": "code",
   "execution_count": 17,
   "metadata": {},
   "outputs": [
    {
     "name": "stderr",
     "output_type": "stream",
     "text": [
      "/tmp/ipykernel_128824/2471238734.py:13: DeprecationWarning: Conversion of an array with ndim > 0 to a scalar is deprecated, and will error in future. Ensure you extract a single element from your array before performing this operation. (Deprecated NumPy 1.25.)\n",
      "  x[i] = np.random.rand(1)\n",
      "/tmp/ipykernel_128824/2471238734.py:17: DeprecationWarning: Conversion of an array with ndim > 0 to a scalar is deprecated, and will error in future. Ensure you extract a single element from your array before performing this operation. (Deprecated NumPy 1.25.)\n",
      "  y[i] = w[1]*x[i] + b[1] + np.random.randn(1)*np.sqrt(v[1])\n",
      "/tmp/ipykernel_128824/2471238734.py:15: DeprecationWarning: Conversion of an array with ndim > 0 to a scalar is deprecated, and will error in future. Ensure you extract a single element from your array before performing this operation. (Deprecated NumPy 1.25.)\n",
      "  y[i] = w[0]*x[i] + b[0] + np.random.randn(1)*np.sqrt(v[0])\n",
      "/tmp/ipykernel_128824/2471238734.py:20: UserWarning: color is redundantly defined by the 'color' keyword argument and the fmt string \"k\" (-> color=(0.0, 0.0, 0.0, 1)). The keyword argument will take precedence.\n",
      "  plt.plot(t,w[0]*t+b[0],'k',color='black')\n",
      "/tmp/ipykernel_128824/2471238734.py:21: UserWarning: color is redundantly defined by the 'color' keyword argument and the fmt string \"k\" (-> color=(0.0, 0.0, 0.0, 1)). The keyword argument will take precedence.\n",
      "  plt.plot(t,w[1]*t+b[1],'k',color='red')\n"
     ]
    },
    {
     "data": {
      "image/png": "[encoded data removed]",
      "text/plain": [
       "<Figure size 432x288 with 1 Axes>"
      ]
     },
     "metadata": {
      "needs_background": "light"
     },
     "output_type": "display_data"
    },
    {
     "name": "stdout",
     "output_type": "stream",
     "text": [
      "(200,)\n"
     ]
    }
   ],
   "source": [
    "#Generating the data given the code in the assignment\n",
    "\n",
    "np.random.seed(0)\n",
    "n = 200 #sample size\n",
    "K = 2 #number of lines\n",
    "e = np.array([0.7,0.3]) #mixing weights\n",
    "w = np.array([-2,1]) #slopes of lines\n",
    "b = np.array([0.5,-0.5]) #offsets of lines\n",
    "v = np.array([0.2,0.1]) #variances\n",
    "x = np.zeros([n])\n",
    "y = np.zeros([n])\n",
    "for i in range(0,n):\n",
    "    x[i] = np.random.rand(1)\n",
    "    if np.random.rand(1) < e[0]:\n",
    "        y[i] = w[0]*x[i] + b[0] + np.random.randn(1)*np.sqrt(v[0])\n",
    "    else:\n",
    "        y[i] = w[1]*x[i] + b[1] + np.random.randn(1)*np.sqrt(v[1])\n",
    "plt.plot(x,y,'bo')\n",
    "t = np.linspace(0, 1, num=100)\n",
    "plt.plot(t,w[0]*t+b[0],'k',color='black')\n",
    "plt.plot(t,w[1]*t+b[1],'k',color='red')\n",
    "plt.xlabel('X value')\n",
    "plt.ylabel('Y value')\n",
    "plt.show()\n",
    "\n",
    "print(x.shape)"
   ]
  },
  {
   "cell_type": "code",
   "execution_count": 18,
   "metadata": {},
   "outputs": [],
   "source": [
    "\n",
    "#Solving for the next gamma_i\n",
    "def e_step(x, y, epsilons, weights, biases, variances):\n",
    "    num_samples = len(x)\n",
    "    num_components = len(weights)\n",
    "\n",
    "    #make the tilde matrices\n",
    "    X_tilde = np.column_stack((x,np.ones_like(x)))\n",
    "    W_tidle = np.column_stack((weights,biases))\n",
    "\n",
    "    respons = np.zeros((num_samples, num_components))\n",
    "    #Fill in all the values\n",
    "    for k in range(num_components):\n",
    "        respons[:, k] = epsilons[k] * norm.pdf(y, loc=np.dot(X_tilde,W_tidle[k,:]), scale=np.sqrt(variances[k]))\n",
    "    \n",
    "    column_sums = np.sum(respons,axis=1, keepdims=True)\n",
    "    \n",
    "    respons /= column_sums\n",
    "    return respons\n",
    "\n",
    "# #Solving for the next step weights, biases and variance values\n",
    "# def m_step(x, y, respons):\n",
    "#     num_components = respons.shape[1]\n",
    "    \n",
    "#     epsilons = np.mean(respons, axis=0)\n",
    "    \n",
    "#     #Need the X_tilde matrix \n",
    "#     X_tilde = np.column_stack((x,np.ones_like(x)))\n",
    "\n",
    "#     weights = np.zeros((num_components)) #sets up row vector \n",
    "#     biases = np.ones((num_components)) #sets up row vector\n",
    "#     w_tilde = np.row_stack([weights,biases]) #it is intializing as a matrix with weights in columns on left and last column is biases\n",
    "#     variances = np.zeros(num_components)\n",
    "    \n",
    "#     for k in range(num_components):\n",
    "\n",
    "#         #need the gamma matrix\n",
    "#         Gamma_mat = np.diag(respons[:,k])\n",
    "#         #Get column vector from the weights and biases\n",
    "#         W_colm = w_tilde[:,k]\n",
    "\n",
    "#         #intermediate matrix solve for the variance\n",
    "#         Y_X_mat = (y-np.dot(X_tilde,W_colm))\n",
    "\n",
    "#         variances[k] = (np.dot(Y_X_mat.T,Gamma_mat).dot(Y_X_mat))\n",
    "\n",
    "#         #Sovle the new weights and biases last to not mess with the values in other computations\n",
    "#         w_list = np.linalg.inv(np.dot(X_tilde.T, np.dot(Gamma_mat, X_tilde))).dot(np.dot(X_tilde.T, np.dot(Gamma_mat, y)))\n",
    "#         weights[k] = w_list[:-1]\n",
    "#         biases[k] = w_list[-1]\n",
    "    \n",
    "\n",
    "#     return epsilons, weights, biases, variances\n",
    "#Solving for the next step weights, biases and variance values\n",
    "def m_step(x, y, respons):\n",
    "    num_components = respons.shape[1]\n",
    "    \n",
    "    epsilons = np.mean(respons, axis=0)\n",
    "    \n",
    "    #Need the X_tilde matrix \n",
    "    X_tilde = np.column_stack((x,np.ones_like(x)))\n",
    "\n",
    "    weights = np.zeros((num_components)) #sets up row vector \n",
    "    biases = np.ones((num_components)) #sets up row vector\n",
    "    w_tilde = np.row_stack([weights,biases]) #it is intializing as a matrix with weights in columns on left and last column is biases\n",
    "    variances = np.zeros(num_components)\n",
    "    \n",
    "    for k in range(num_components):\n",
    "\n",
    "        #need the gamma matrix\n",
    "        Gamma_mat = np.diag(respons[:,k])\n",
    "        #Get column vector from the weights and biases\n",
    "        W_colm = w_tilde[:,k]\n",
    "\n",
    "        #intermediate matrix solve for the variance\n",
    "        Y_X_mat = (y-np.matmul(X_tilde,W_colm))\n",
    "\n",
    "        variances[k] = (np.matmul(np.matmul(Y_X_mat.T,Gamma_mat),(Y_X_mat)))\n",
    "\n",
    "        #Sovle the new weights and biases last to not mess with the values in other computations\n",
    "        w_list = np.matmul(np.linalg.inv(np.matmul(X_tilde.T, np.matmul(Gamma_mat, X_tilde))),(np.matmul(X_tilde.T, np.matmul(Gamma_mat, y))))\n",
    "        weights[k] = w_list[:-1]\n",
    "        biases[k] = w_list[-1]\n",
    "    \n",
    "\n",
    "    return epsilons, weights, biases, variances\n",
    "\n",
    "# Getting the log likelihood value\n",
    "\n",
    "def log_likelihood(x, y, epsilons, weights, biases, variances):\n",
    "    num_samples = len(x)\n",
    "    num_components = len(weights)\n",
    "\n",
    "    log_likelihood_value = 0\n",
    "    for i in range(num_samples):\n",
    "        for k in range(num_components):\n",
    "            residual = y[i] - np.dot(weights[k], x[i]) - biases[k]\n",
    "            log_likelihood_value += np.log(epsilons[k]) - 0.5*np.log(2*np.pi) - 0.5*np.log(variances[k]) - 0.5*(residual**2) / variances[k]\n",
    "    \n",
    "    return log_likelihood_value"
   ]
  },
  {
   "cell_type": "code",
   "execution_count": 19,
   "metadata": {},
   "outputs": [
    {
     "name": "stderr",
     "output_type": "stream",
     "text": [
      "/tmp/ipykernel_128824/3749855105.py:81: DeprecationWarning: Conversion of an array with ndim > 0 to a scalar is deprecated, and will error in future. Ensure you extract a single element from your array before performing this operation. (Deprecated NumPy 1.25.)\n",
      "  weights[k] = w_list[:-1]\n"
     ]
    },
    {
     "name": "stdout",
     "output_type": "stream",
     "text": [
      "Converged after 100 iterations\n",
      "Mixing weights: [0.5 0.5]\n",
      "Slopes: [-1.24759632 -1.24759632]\n",
      "Biases: [0.26919085 0.26919085]\n",
      "Variances: [237.97061084 237.97061084]\n"
     ]
    },
    {
     "data": {
      "image/png": "[encoded data removed]",
      "text/plain": [
       "<Figure size 432x288 with 1 Axes>"
      ]
     },
     "metadata": {
      "needs_background": "light"
     },
     "output_type": "display_data"
    }
   ],
   "source": [
    "#Lets actually use the developed functions now\n",
    "\n",
    "#Initialization\n",
    "epsilons = np.array([0.5, 0.5])  # initial mixing weights\n",
    "weights = np.array([1, -1])  # initial slopes\n",
    "biases = np.array([0, 0])   # initial biases\n",
    "variances = np.array([0.2, 0.1])  # initial variances\n",
    "\n",
    "#EM Algorithm\n",
    "max_iterations = 100\n",
    "tolerance = 1e-6\n",
    "log_likelihood_array = []\n",
    "iteration_array = []\n",
    "for iteration in range(max_iterations):\n",
    "    respons = e_step(x, y, epsilons, weights, biases, variances)\n",
    "    new_epsilons, new_weights, new_biases, new_variances = m_step(x, y, respons)\n",
    "    \n",
    "    log_like = log_likelihood(x,y,epsilons,weights,biases,variances)\n",
    "    log_likelihood_array.append(log_like)\n",
    "    iteration_array.append(iteration)\n",
    "    epsilons, weights, biases, variances = new_epsilons, new_weights, new_biases, new_variances\n",
    "\n",
    "print(\"Converged after {} iterations\".format(iteration+1))\n",
    "print(\"Mixing weights:\", epsilons)\n",
    "print(\"Slopes:\", weights)\n",
    "print(\"Biases:\", biases)\n",
    "print(\"Variances:\", variances)\n",
    "\n",
    "plt.figure()\n",
    "\n",
    "plt.plot(iteration_array,log_likelihood_array)\n",
    "plt.xlabel('Iteration')\n",
    "plt.ylabel('likelihood')\n",
    "plt.savefig('Log_Likelihood.png',dpi=200)\n",
    "plt.show()\n"
   ]
  },
  {
   "cell_type": "code",
   "execution_count": 20,
   "metadata": {},
   "outputs": [
    {
     "name": "stderr",
     "output_type": "stream",
     "text": [
      "/tmp/ipykernel_128824/1184793216.py:5: UserWarning: color is redundantly defined by the 'color' keyword argument and the fmt string \"k\" (-> color=(0.0, 0.0, 0.0, 1)). The keyword argument will take precedence.\n",
      "  plt.plot(t,w[0]*t+b[0],'k',color='black')\n",
      "/tmp/ipykernel_128824/1184793216.py:6: UserWarning: color is redundantly defined by the 'color' keyword argument and the fmt string \"k\" (-> color=(0.0, 0.0, 0.0, 1)). The keyword argument will take precedence.\n",
      "  plt.plot(t,w[1]*t+b[1],'k',color='red')\n",
      "/tmp/ipykernel_128824/1184793216.py:7: UserWarning: color is redundantly defined by the 'color' keyword argument and the fmt string \"k\" (-> color=(0.0, 0.0, 0.0, 1)). The keyword argument will take precedence.\n",
      "  plt.plot(t,weights[0]*t+biases[0],'k',color='black',linestyle='--')\n",
      "/tmp/ipykernel_128824/1184793216.py:8: UserWarning: color is redundantly defined by the 'color' keyword argument and the fmt string \"k\" (-> color=(0.0, 0.0, 0.0, 1)). The keyword argument will take precedence.\n",
      "  plt.plot(t,weights[1]*t+biases[1],'k',color='red',linestyle='--')\n"
     ]
    },
    {
     "data": {
      "image/png": "[encoded data removed]",
      "text/plain": [
       "<Figure size 432x288 with 1 Axes>"
      ]
     },
     "metadata": {
      "needs_background": "light"
     },
     "output_type": "display_data"
    }
   ],
   "source": [
    "#Plot what the lines look like\n",
    "plt.figure\n",
    "t = np.linspace(0, 1, num=100)\n",
    "plt.plot(x,y,'bo')\n",
    "plt.plot(t,w[0]*t+b[0],'k',color='black')\n",
    "plt.plot(t,w[1]*t+b[1],'k',color='red')\n",
    "plt.plot(t,weights[0]*t+biases[0],'k',color='black',linestyle='--')\n",
    "plt.plot(t,weights[1]*t+biases[1],'k',color='red',linestyle='--')\n",
    "plt.xlabel('X value')\n",
    "plt.ylabel('Y value')\n",
    "plt.savefig('Problem8.png',dpi=200)\n",
    "plt.show()"
   ]
  }
 ],
 "metadata": {
  "kernelspec": {
   "display_name": "Python 3",
   "language": "python",
   "name": "python3"
  },
  "language_info": {
   "codemirror_mode": {
    "name": "ipython",
    "version": 3
   },
   "file_extension": ".py",
   "mimetype": "text/x-python",
   "name": "python",
   "nbconvert_exporter": "python",
   "pygments_lexer": "ipython3",
   "version": "3.10.12"
  }
 },
 "nbformat": 4,
 "nbformat_minor": 2
}
