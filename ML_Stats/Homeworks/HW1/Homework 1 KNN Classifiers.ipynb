{
 "cells": [
  {
   "cell_type": "code",
   "execution_count": 115,
   "id": "717c6aeae4784733",
   "metadata": {
    "collapsed": true,
    "ExecuteTime": {
     "end_time": "2024-01-22T19:06:06.505849600Z",
     "start_time": "2024-01-22T19:06:06.495309500Z"
    }
   },
   "outputs": [],
   "source": [
    "import numpy as np\n",
    "import pandas as pd\n",
    "import matplotlib.pyplot as plt\n",
    "import sklearn as sk\n",
    "import sklearn.model_selection\n",
    "from sklearn.neighbors import KNeighborsClassifier as KNN"
   ]
  },
  {
   "cell_type": "code",
   "execution_count": 116,
   "outputs": [
    {
     "name": "stdout",
     "output_type": "stream",
     "text": [
      "(210, 8)\n"
     ]
    }
   ],
   "source": [
    "#import the dataset\n",
    "\n",
    "df = pd.read_csv('assignment1/data_seed.dat',header=None,delimiter='\\t')\n",
    "print(df.shape)"
   ],
   "metadata": {
    "collapsed": false,
    "ExecuteTime": {
     "end_time": "2024-01-22T19:06:06.523216700Z",
     "start_time": "2024-01-22T19:06:06.505849600Z"
    }
   },
   "id": "2e6b988fbb1da3ff"
  },
  {
   "cell_type": "code",
   "execution_count": 117,
   "outputs": [],
   "source": [
    "#Breaking up the data into train and test data\n",
    "labels = df.iloc[:,[7]]\n",
    "data = df.iloc[:,:-1]\n",
    "\n",
    "#Training Split I have done before\n",
    "#xtrain, xtest, ytrain, ytest = sk.model_selection.train_test_split(data,labels,test_size=0.2,random_state=1)\n",
    "#Doing the same kind of split using the 5-fold corss validation method\n",
    "Kfolds = sklearn.model_selection.KFold(n_splits=5,random_state=1,shuffle=True)\n",
    "\n",
    "\n"
   ],
   "metadata": {
    "collapsed": false,
    "ExecuteTime": {
     "end_time": "2024-01-22T19:06:06.533218900Z",
     "start_time": "2024-01-22T19:06:06.523216700Z"
    }
   },
   "id": "b68e379f2694b16a"
  },
  {
   "cell_type": "code",
   "execution_count": 118,
   "outputs": [
    {
     "name": "stdout",
     "output_type": "stream",
     "text": [
      "1\n",
      "[0.0952381  0.07142857 0.04761905 0.11904762 0.11904762]\n",
      "5\n",
      "[0.14285714 0.07142857 0.04761905 0.16666667 0.14285714]\n",
      "10\n",
      "[0.0952381  0.07142857 0.02380952 0.11904762 0.11904762]\n",
      "15\n",
      "[0.0952381  0.07142857 0.0952381  0.0952381  0.14285714]\n"
     ]
    },
    {
     "name": "stderr",
     "output_type": "stream",
     "text": [
      "C:\\Users\\Eric_Larsen\\Desktop\\Spring 2023 Machine Learning Stats\\venv\\lib\\site-packages\\sklearn\\neighbors\\_classification.py:238: DataConversionWarning: A column-vector y was passed when a 1d array was expected. Please change the shape of y to (n_samples,), for example using ravel().\n",
      "  return self._fit(X, y)\n",
      "C:\\Users\\Eric_Larsen\\Desktop\\Spring 2023 Machine Learning Stats\\venv\\lib\\site-packages\\sklearn\\neighbors\\_classification.py:238: DataConversionWarning: A column-vector y was passed when a 1d array was expected. Please change the shape of y to (n_samples,), for example using ravel().\n",
      "  return self._fit(X, y)\n",
      "C:\\Users\\Eric_Larsen\\Desktop\\Spring 2023 Machine Learning Stats\\venv\\lib\\site-packages\\sklearn\\neighbors\\_classification.py:238: DataConversionWarning: A column-vector y was passed when a 1d array was expected. Please change the shape of y to (n_samples,), for example using ravel().\n",
      "  return self._fit(X, y)\n",
      "C:\\Users\\Eric_Larsen\\Desktop\\Spring 2023 Machine Learning Stats\\venv\\lib\\site-packages\\sklearn\\neighbors\\_classification.py:238: DataConversionWarning: A column-vector y was passed when a 1d array was expected. Please change the shape of y to (n_samples,), for example using ravel().\n",
      "  return self._fit(X, y)\n",
      "C:\\Users\\Eric_Larsen\\Desktop\\Spring 2023 Machine Learning Stats\\venv\\lib\\site-packages\\sklearn\\neighbors\\_classification.py:238: DataConversionWarning: A column-vector y was passed when a 1d array was expected. Please change the shape of y to (n_samples,), for example using ravel().\n",
      "  return self._fit(X, y)\n",
      "C:\\Users\\Eric_Larsen\\Desktop\\Spring 2023 Machine Learning Stats\\venv\\lib\\site-packages\\sklearn\\neighbors\\_classification.py:238: DataConversionWarning: A column-vector y was passed when a 1d array was expected. Please change the shape of y to (n_samples,), for example using ravel().\n",
      "  return self._fit(X, y)\n",
      "C:\\Users\\Eric_Larsen\\Desktop\\Spring 2023 Machine Learning Stats\\venv\\lib\\site-packages\\sklearn\\neighbors\\_classification.py:238: DataConversionWarning: A column-vector y was passed when a 1d array was expected. Please change the shape of y to (n_samples,), for example using ravel().\n",
      "  return self._fit(X, y)\n",
      "C:\\Users\\Eric_Larsen\\Desktop\\Spring 2023 Machine Learning Stats\\venv\\lib\\site-packages\\sklearn\\neighbors\\_classification.py:238: DataConversionWarning: A column-vector y was passed when a 1d array was expected. Please change the shape of y to (n_samples,), for example using ravel().\n",
      "  return self._fit(X, y)\n",
      "C:\\Users\\Eric_Larsen\\Desktop\\Spring 2023 Machine Learning Stats\\venv\\lib\\site-packages\\sklearn\\neighbors\\_classification.py:238: DataConversionWarning: A column-vector y was passed when a 1d array was expected. Please change the shape of y to (n_samples,), for example using ravel().\n",
      "  return self._fit(X, y)\n",
      "C:\\Users\\Eric_Larsen\\Desktop\\Spring 2023 Machine Learning Stats\\venv\\lib\\site-packages\\sklearn\\neighbors\\_classification.py:238: DataConversionWarning: A column-vector y was passed when a 1d array was expected. Please change the shape of y to (n_samples,), for example using ravel().\n",
      "  return self._fit(X, y)\n",
      "C:\\Users\\Eric_Larsen\\Desktop\\Spring 2023 Machine Learning Stats\\venv\\lib\\site-packages\\sklearn\\neighbors\\_classification.py:238: DataConversionWarning: A column-vector y was passed when a 1d array was expected. Please change the shape of y to (n_samples,), for example using ravel().\n",
      "  return self._fit(X, y)\n",
      "C:\\Users\\Eric_Larsen\\Desktop\\Spring 2023 Machine Learning Stats\\venv\\lib\\site-packages\\sklearn\\neighbors\\_classification.py:238: DataConversionWarning: A column-vector y was passed when a 1d array was expected. Please change the shape of y to (n_samples,), for example using ravel().\n",
      "  return self._fit(X, y)\n",
      "C:\\Users\\Eric_Larsen\\Desktop\\Spring 2023 Machine Learning Stats\\venv\\lib\\site-packages\\sklearn\\neighbors\\_classification.py:238: DataConversionWarning: A column-vector y was passed when a 1d array was expected. Please change the shape of y to (n_samples,), for example using ravel().\n",
      "  return self._fit(X, y)\n",
      "C:\\Users\\Eric_Larsen\\Desktop\\Spring 2023 Machine Learning Stats\\venv\\lib\\site-packages\\sklearn\\neighbors\\_classification.py:238: DataConversionWarning: A column-vector y was passed when a 1d array was expected. Please change the shape of y to (n_samples,), for example using ravel().\n",
      "  return self._fit(X, y)\n",
      "C:\\Users\\Eric_Larsen\\Desktop\\Spring 2023 Machine Learning Stats\\venv\\lib\\site-packages\\sklearn\\neighbors\\_classification.py:238: DataConversionWarning: A column-vector y was passed when a 1d array was expected. Please change the shape of y to (n_samples,), for example using ravel().\n",
      "  return self._fit(X, y)\n",
      "C:\\Users\\Eric_Larsen\\Desktop\\Spring 2023 Machine Learning Stats\\venv\\lib\\site-packages\\sklearn\\neighbors\\_classification.py:238: DataConversionWarning: A column-vector y was passed when a 1d array was expected. Please change the shape of y to (n_samples,), for example using ravel().\n",
      "  return self._fit(X, y)\n",
      "C:\\Users\\Eric_Larsen\\Desktop\\Spring 2023 Machine Learning Stats\\venv\\lib\\site-packages\\sklearn\\neighbors\\_classification.py:238: DataConversionWarning: A column-vector y was passed when a 1d array was expected. Please change the shape of y to (n_samples,), for example using ravel().\n",
      "  return self._fit(X, y)\n",
      "C:\\Users\\Eric_Larsen\\Desktop\\Spring 2023 Machine Learning Stats\\venv\\lib\\site-packages\\sklearn\\neighbors\\_classification.py:238: DataConversionWarning: A column-vector y was passed when a 1d array was expected. Please change the shape of y to (n_samples,), for example using ravel().\n",
      "  return self._fit(X, y)\n",
      "C:\\Users\\Eric_Larsen\\Desktop\\Spring 2023 Machine Learning Stats\\venv\\lib\\site-packages\\sklearn\\neighbors\\_classification.py:238: DataConversionWarning: A column-vector y was passed when a 1d array was expected. Please change the shape of y to (n_samples,), for example using ravel().\n",
      "  return self._fit(X, y)\n",
      "C:\\Users\\Eric_Larsen\\Desktop\\Spring 2023 Machine Learning Stats\\venv\\lib\\site-packages\\sklearn\\neighbors\\_classification.py:238: DataConversionWarning: A column-vector y was passed when a 1d array was expected. Please change the shape of y to (n_samples,), for example using ravel().\n",
      "  return self._fit(X, y)\n"
     ]
    }
   ],
   "source": [
    "Klist = [1,5,10,15]\n",
    "Elist = []\n",
    "for i in Klist:\n",
    "    K_error = np.zeros(5)\n",
    "    for j, (train_index,test_index) in enumerate(Kfolds.split(data,labels)):\n",
    "        #pulls the data into test and train data\n",
    "        train_set_x = data.iloc[train_index]\n",
    "        test_set_x = data.iloc[test_index]\n",
    "        train_set_y = labels.iloc[train_index]\n",
    "        test_set_y = labels.iloc[test_index]\n",
    "        y_true = np.asarray(test_set_y).flatten()\n",
    "        #Fit the model\n",
    "        model = KNN(n_neighbors=i)\n",
    "        model.fit(train_set_x,train_set_y)\n",
    "        y_pred = model.predict(test_set_x)\n",
    "    \n",
    "        acc = sk.metrics.accuracy_score(y_pred,y_true)\n",
    "        error = 1-acc\n",
    "        \n",
    "        K_error[j] = error\n",
    "    print(i)\n",
    "    print(K_error)\n",
    "    Elist.append(K_error.mean())"
   ],
   "metadata": {
    "collapsed": false,
    "ExecuteTime": {
     "end_time": "2024-01-22T19:06:06.635422600Z",
     "start_time": "2024-01-22T19:06:06.533218900Z"
    }
   },
   "id": "d91a885b01bde4d7"
  },
  {
   "cell_type": "code",
   "execution_count": 119,
   "outputs": [
    {
     "name": "stdout",
     "output_type": "stream",
     "text": [
      "[0.09047619047619049, 0.1142857142857143, 0.08571428571428572, 0.1]\n"
     ]
    },
    {
     "data": {
      "text/plain": "[<matplotlib.lines.Line2D at 0x189f01acb20>]"
     },
     "execution_count": 119,
     "metadata": {},
     "output_type": "execute_result"
    },
    {
     "data": {
      "text/plain": "<Figure size 640x480 with 1 Axes>",
      "image/png": "[encoded data removed]"
     },
     "metadata": {},
     "output_type": "display_data"
    }
   ],
   "source": [
    "#Plot results\n",
    "print(Elist)\n",
    "error_plot =plt.figure()\n",
    "\n",
    "plt.plot(Klist,Elist)"
   ],
   "metadata": {
    "collapsed": false,
    "ExecuteTime": {
     "end_time": "2024-01-22T19:06:06.736896400Z",
     "start_time": "2024-01-22T19:06:06.635422600Z"
    }
   },
   "id": "initial_id"
  },
  {
   "cell_type": "markdown",
   "source": [],
   "metadata": {
    "collapsed": false
   },
   "id": "e0cfec8df54c6b82"
  }
 ],
 "metadata": {
  "kernelspec": {
   "display_name": "Python 3",
   "language": "python",
   "name": "python3"
  },
  "language_info": {
   "codemirror_mode": {
    "name": "ipython",
    "version": 2
   },
   "file_extension": ".py",
   "mimetype": "text/x-python",
   "name": "python",
   "nbconvert_exporter": "python",
   "pygments_lexer": "ipython2",
   "version": "2.7.6"
  }
 },
 "nbformat": 4,
 "nbformat_minor": 5
}
