{
 "cells": [
  {
   "cell_type": "code",
   "execution_count": 33,
   "metadata": {},
   "outputs": [],
   "source": [
    "#import packages\n",
    "import scipy.linalg as scilin\n",
    "import numpy as np"
   ]
  },
  {
   "cell_type": "code",
   "execution_count": 34,
   "metadata": {},
   "outputs": [],
   "source": [
    "#Function Section\n",
    "\n",
    "def EigenPrint_TwoMat(A,B):\n",
    "    C = np.matmul(np.linalg.inv(B),A)\n",
    "    eigen_vals,eigen_vects = scilin.eig(C)\n",
    "    id_list = eigen_vals.argsort()[::-1]\n",
    "    eigen_vals = eigen_vals[id_list]\n",
    "    eigen_vects = eigen_vects[:,id_list]\n",
    "    for i in range(len(eigen_vals)):\n",
    "        print(f'Eigen Value: {eigen_vals[i]}')\n",
    "    for j in range(len(eigen_vects)):\n",
    "        print(f'Eigenvector: {eigen_vects[j]}')\n",
    "def EigenPrint_OneMat(C):\n",
    "    eigen_vals,eigen_vects = scilin.eig(C)\n",
    "\n",
    "    for i in range(len(eigen_vals)):\n",
    "        print(f'Eigen Value: {eigen_vals[i]}')\n",
    "    for j in range(len(eigen_vects)):\n",
    "        print(f'Eigenvector: {eigen_vects[j]}')"
   ]
  },
  {
   "cell_type": "code",
   "execution_count": 35,
   "metadata": {},
   "outputs": [
    {
     "name": "stdout",
     "output_type": "stream",
     "text": [
      "Eigen Value: (-0.04625113642169848+0j)\n",
      "Eigen Value: (-0.5563868159612209+3.098305883999979j)\n",
      "Eigen Value: (-0.5563868159612209-3.098305883999979j)\n",
      "Eigen Value: (-1.0909752316558583+0j)\n",
      "Eigenvector: [-0.03256271+0.j         -0.6447171 -0.15394458j -0.6447171 +0.15394458j\n",
      "  0.5396094 +0.j        ]\n",
      "Eigenvector: [-0.03277608+0.j  0.6848168 +0.j  0.6848168 -0.j  0.50224297+0.j]\n",
      "Eigenvector: [ 0.7040413 +0.j         -0.01193405+0.21023007j -0.01193405-0.21023007j\n",
      " -0.49461196+0.j        ]\n",
      "Eigenvector: [ 0.70865453+0.j         -0.03845196-0.21412432j -0.03845196+0.21412432j\n",
      " -0.46036148+0.j        ]\n"
     ]
    }
   ],
   "source": [
    "#Set up the array to be solved\n",
    "\n",
    "#Problem 8.1  given the information given in example 8.1.1\n",
    "\n",
    "\n",
    "m1 = 20\n",
    "m2 = 20\n",
    "c1 = 30\n",
    "c2 = 15\n",
    "k1 = 2.0\n",
    "k2 = 100\n",
    "Amatrix = [[-c1,0,-(k1+k2),k2],[0,-c2,k2,-k2],[1,0,0,0],[0,1,0,0]]\n",
    "Bmatrix = [[m1,0,0,0],[0,m2,0,0],[0,0,1,0],[0,0,0,1]]\n",
    "\n",
    "EigenPrint_TwoMat(Amatrix,Bmatrix)\n",
    "\n"
   ]
  },
  {
   "cell_type": "code",
   "execution_count": 36,
   "metadata": {},
   "outputs": [
    {
     "name": "stdout",
     "output_type": "stream",
     "text": [
      "Eigen Value: (-8.612277619456112e-16+0j)\n",
      "Eigen Value: (-0.5544918640681824+3.09065855339062j)\n",
      "Eigen Value: (-0.5544918640681824-3.09065855339062j)\n",
      "Eigen Value: (-1.1410162718636359+0j)\n",
      "Eigenvector: [-1.54985804e-15+0.j          6.41297216e-01+0.15266707j\n",
      "  6.41297216e-01-0.15266707j -5.53987184e-01+0.j        ]\n",
      "Eigenvector: [-3.18274418e-16+0.j -6.88001811e-01+0.j -6.88001811e-01-0.j\n",
      " -5.08603859e-01+0.j]\n",
      "Eigenvector: [0.70710678+0.j         0.01179027-0.20961061j 0.01179027+0.20961061j\n",
      " 0.48552084+0.j        ]\n",
      "Eigenvector: [0.70710678+0.j         0.03869226+0.21566513j 0.03869226-0.21566513j\n",
      " 0.44574637+0.j        ]\n"
     ]
    }
   ],
   "source": [
    "#Set up the array to be solved\n",
    "\n",
    "#Problem 8.2  given the information given in example 8.1.2\n",
    "\n",
    "\n",
    "m1 = 20\n",
    "m2 = 20\n",
    "c1 = 30\n",
    "c2 = 15\n",
    "k1 = 0\n",
    "k2 = 100\n",
    "Amatrix = [[-c1,0,-(k1+k2),k2],[0,-c2,k2,-k2],[1,0,0,0],[0,1,0,0]]\n",
    "Bmatrix = [[m1,0,0,0],[0,m2,0,0],[0,0,1,0],[0,0,0,1]]\n",
    "A_matrix_simp = [[-1.5,0,-5.1,5.0],[0,-0.75,5.0,-5.0],[1,0,0,0],[0,1,0,0]]\n",
    "\n",
    "EigenPrint_TwoMat(Amatrix,Bmatrix)"
   ]
  }
 ],
 "metadata": {
  "kernelspec": {
   "display_name": "Python 3",
   "language": "python",
   "name": "python3"
  },
  "language_info": {
   "codemirror_mode": {
    "name": "ipython",
    "version": 3
   },
   "file_extension": ".py",
   "mimetype": "text/x-python",
   "name": "python",
   "nbconvert_exporter": "python",
   "pygments_lexer": "ipython3",
   "version": "3.11.8"
  }
 },
 "nbformat": 4,
 "nbformat_minor": 2
}
