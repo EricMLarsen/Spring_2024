{
 "cells": [
  {
   "cell_type": "code",
   "execution_count": 37,
   "id": "d2ed5a0d4b06e1d0",
   "metadata": {
    "collapsed": true,
    "ExecuteTime": {
     "end_time": "2024-02-13T23:19:03.003014800Z",
     "start_time": "2024-02-13T23:19:02.985227200Z"
    }
   },
   "outputs": [],
   "source": [
    "import numpy as np\n",
    "import pandas as pd\n"
   ]
  },
  {
   "cell_type": "code",
   "execution_count": 38,
   "outputs": [],
   "source": [
    "#Function Definition/ class designation\n",
    "\n",
    "#Equation for x_d\n",
    "def x_d_equation(x_hat,gamma):\n",
    "    return x_hat-np.tan(gamma*np.pi/180)\n",
    "#Full equation estimator given known information\n",
    "def epsilon_s(es_0,es_beta,beta):\n",
    "    return es_0 + es_beta*beta*(np.pi/180)\n",
    "\n",
    "def epsilon_beta(Cl_w,Ra_w,b_w,K_v,K_b,x,y,z,gamma):\n",
    "    #solve for x_hat,y_hat,z_hat,x_d\n",
    "    x_hat = (2*x)/(b_w*K_b)\n",
    "    y_hat = (2*y)/(b_w*K_b)\n",
    "    z_hat = (2*z)/(b_w*K_b)\n",
    "    x_d = x_d_equation(x_hat,gamma)\n",
    "    #lead coefficient\n",
    "    lead_co = -(K_v*x_d*Cl_w)/(Ra_w*K_b*np.pi**2)\n",
    "    var1 = ((-2*y_hat*(z_hat-1))/(y_hat**2 + (z_hat-1)**2)**2)*(1+((x_d)/(np.sqrt(x_d**2 + y_hat**2 + (z_hat-1)**2))))\n",
    "    var2 = ((2*y_hat*(z_hat+1))/(y_hat**2 + (z_hat+1)**2)**2)*(1+((x_d)/(np.sqrt(x_d**2 + y_hat**2 + (z_hat+1)**2))))\n",
    "    var3 = (y_hat/(y_hat**2 + (z_hat-1)**2))* ((x_d*(z_hat-1))/((x_d**2 + y_hat**2 + (z_hat-1)**2)**(3/2)))\n",
    "    var4 = (y_hat/(y_hat**2 + (z_hat+1)**2))* ((x_d*(z_hat+1))/((x_d**2 + y_hat**2 + (z_hat+1)**2)**(3/2)))\n",
    "    return lead_co*(var1+var2-var3+var4)\n",
    "\n",
    "def epsilon_beta_simplified(CL_w,RA_w,K_v,K_beta,K_b):\n",
    "    return -(CL_w*K_v*K_beta)/(K_b*RA_w)\n",
    "\n",
    "#function to get the K_beta value using the equation where it lies on axis of sym ie Z=0\n",
    "def get_K_beta_val_Z_zero(K_b,b_w,gamma,x,y):\n",
    "    x_hat = (2*x)/(b_w*K_b)\n",
    "    y_hat = (2*y)/(b_w*K_b)\n",
    "    x_d = x_d_equation(x_hat,gamma)\n",
    "    var1 = ((4*y_hat*x_d)/(np.pi**2 *(y_hat**2 + 1)**2)) *(1+((x_d)/(np.sqrt(x_d**2 + y_hat**2 +1 ))))\n",
    "    var2 = ((2*y_hat)/(np.pi**2 *(y_hat**2 + 1)**2)) *((x_d**2)/((x_d**2 + y_hat**2 +1)**(3/2)))\n",
    "    return var1 + var2\n",
    "\n",
    "def get_CL_v_effective(RA_eff,K_L,C_L_alpha_tilda):\n",
    "    return C_L_alpha_tilda/((1+C_L_alpha_tilda/(1*np.pi*RA_eff))*(1+K_L))\n",
    "\n",
    "def get_CL_val(W,gamma,rho,vinf,sw):\n",
    "    return W*np.cos(gamma*np.pi/180)/(0.5*rho*vinf**2 *sw)\n",
    "\n",
    "def get_K_s_val(X,Y,B_w,K_b,Lambda_deg):\n",
    "    Lambda_rad = Lambda_deg*np.pi/180\n",
    "    X_bar = X/(B_w*0.5)\n",
    "    Y_bar = Y/(B_w*0.5)\n",
    "    r_bar = np.sqrt(X_bar**2+Y_bar**2)\n",
    "    s_bar = K_b*np.tan(Lambda_rad)\n",
    "    t_bar = np.sqrt((X_bar-s_bar)**2+Y_bar**2+K_b**2)\n",
    "    t_0bar = np.sqrt(X_bar**2+Y_bar**2+K_b**2)\n",
    "    top = 1 + (X_bar-s_bar)/(t_bar) + (X_bar*(r_bar+t_bar)*(t_0bar**2 - X_bar**2))/(r_bar*t_bar*(r_bar*t_bar+r_bar**2 -X_bar*s_bar))\n",
    "    bottom = 1 + (X_bar*(r_bar**2 + t_0bar**2 -X_bar**2))/(t_0bar*r_bar**2 )\n",
    "    K_s = top/bottom\n",
    "    return K_s\n"
   ],
   "metadata": {
    "collapsed": false,
    "ExecuteTime": {
     "end_time": "2024-02-13T23:19:03.019076800Z",
     "start_time": "2024-02-13T23:19:03.003014800Z"
    }
   },
   "id": "4a66f284398397a4"
  },
  {
   "cell_type": "code",
   "execution_count": 48,
   "outputs": [
    {
     "name": "stdout",
     "output_type": "stream",
     "text": [
      "34.20208841198289\n",
      "0.1360663760705857\n",
      "46.50987124836365\n",
      "15.943619449769836\n",
      "0.6261555423119768\n"
     ]
    }
   ],
   "source": [
    "class Wing_part:\n",
    "    \n",
    "    def __init__(self,C_barW,B_W,weight,launch_force = 20):\n",
    "        self.span = B_W\n",
    "        self.mean_chord = C_barW\n",
    "        self.aspect = self.span/self.mean_chord\n",
    "        self.plan_area = self.span*self.mean_chord\n",
    "        self.launch_force = launch_force #must be in ft-lbf (kinetic energy)\n",
    "        self.gravity = 32.174 # ft/s^2 @ 5000 ft elevation\n",
    "        self.weight = weight #lbf \n",
    "        self.air_rho = 0.002048 #slug/ft^3 for air at 5000 ft \n",
    "        self.dynam_vis = 3.6366 *10**(-7)\n",
    "    def launch_velocity(self):\n",
    "        velocity = np.sqrt(2*self.launch_force*self.gravity/self.weight)\n",
    "        self.velocity = velocity\n",
    "        return self.velocity\n",
    "    def get_CL_val(self,gamma,velocity):\n",
    "        self.CL =  self.weight*np.cos(gamma*np.pi/180)/(0.5*self.air_rho*velocity**2 *self.plan_area)\n",
    "        return self.CL\n",
    "    def get_RA_allowed(self,sigma_max,W_fuse,W_wing,gamma,t_max_c,b):\n",
    "        self.Max_RA = ((sigma_max*W_wing*16*t_max_c)/(21*W_fuse*b*gamma))\n",
    "        return self.Max_RA\n",
    "    def best_no_wind_glide_vel(self,CD_0,e):\n",
    "        val = (2**(0.5)/(np.pi*e*self.aspect*CD_0)**(0.25))*np.sqrt(self.weight/(self.plan_area*self.air_rho))\n",
    "        return val\n",
    "    \n",
    "MainWing = Wing_part(0.75,9,1.10017)\n",
    "\n",
    "print(MainWing.launch_velocity())\n",
    "print(MainWing.get_CL_val(0,MainWing.velocity))\n",
    "print(MainWing.get_RA_allowed(7200,0.6545,0.33461,0.804,0.12,9))\n",
    "print(MainWing.best_no_wind_glide_vel(0.013,0.8))\n",
    "MainWing.velocity = MainWing.best_no_wind_glide_vel(0.013,0.8)\n",
    "print(MainWing.get_CL_val(0,MainWing.velocity))"
   ],
   "metadata": {
    "collapsed": false,
    "ExecuteTime": {
     "end_time": "2024-02-13T23:41:32.477056700Z",
     "start_time": "2024-02-13T23:41:32.459966400Z"
    }
   },
   "id": "initial_id"
  }
 ],
 "metadata": {
  "kernelspec": {
   "display_name": "Python 3",
   "language": "python",
   "name": "python3"
  },
  "language_info": {
   "codemirror_mode": {
    "name": "ipython",
    "version": 2
   },
   "file_extension": ".py",
   "mimetype": "text/x-python",
   "name": "python",
   "nbconvert_exporter": "python",
   "pygments_lexer": "ipython2",
   "version": "2.7.6"
  }
 },
 "nbformat": 4,
 "nbformat_minor": 5
}
