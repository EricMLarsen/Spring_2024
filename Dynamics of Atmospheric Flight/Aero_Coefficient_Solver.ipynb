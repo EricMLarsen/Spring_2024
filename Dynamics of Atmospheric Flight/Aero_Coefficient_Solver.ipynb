{
 "cells": [
  {
   "cell_type": "code",
   "execution_count": null,
   "id": "e29a1fc3c1da0979",
   "metadata": {
    "collapsed": true,
    "is_executing": true
   },
   "outputs": [],
   "source": [
    "import numpy as np\n",
    "import pandas as pd\n",
    "import matplotlib.pyplot as plt"
   ]
  },
  {
   "cell_type": "code",
   "execution_count": null,
   "outputs": [],
   "source": [
    "#Set up Intial array\n",
    "X = 17.13\n",
    "K_b = 0.75\n",
    "Y = 0\n",
    "B_w = 30\n",
    "Lambda_deg = 32 #degrees\n",
    "def get_K_s_val(X,Y,B_w,K_b,Lambda_deg):\n",
    "    Lambda_rad = Lambda_deg*np.pi/180\n",
    "    X_bar = X/(B_w*0.5)\n",
    "    Y_bar = Y/(B_w*0.5)\n",
    "    r_bar = np.sqrt(X_bar**2+Y_bar**2)\n",
    "    s_bar = K_b*np.tan(Lambda_rad)\n",
    "    t_bar = np.sqrt((X_bar-s_bar)**2+Y_bar**2+K_b**2)\n",
    "    t_0bar = np.sqrt(X_bar**2+Y_bar**2+K_b**2)\n",
    "    top = 1 + (X_bar-s_bar)/(t_bar) + (X_bar*(r_bar+t_bar)*(t_0bar**2 - X_bar**2))/(r_bar*t_bar*(r_bar*t_bar+r_bar**2 -X_bar*s_bar))\n",
    "    bottom = 1 + (X_bar*(r_bar**2 + t_0bar**2 -X_bar**2))/(t_0bar*r_bar**2 )\n",
    "    K_s = top/bottom\n",
    "    return K_s\n",
    "K_s = get_K_s_val(X,Y,B_w,K_b,Lambda_deg)\n",
    "print(K_s)\n"
   ],
   "metadata": {
    "collapsed": false,
    "is_executing": true
   },
   "id": "142ffb659659e8a2"
  },
  {
   "cell_type": "code",
   "execution_count": null,
   "outputs": [],
   "source": [
    "# CL solver\n",
    "\n",
    "def get_CL_val(W,gamma,rho,vinf,sw):\n",
    "    return W*np.cos(gamma*np.pi/180)/(0.5*rho*vinf**2 *sw)\n",
    "CL = get_CL_val(20500,0,0.0023769,225,300)\n",
    "print(CL)\n"
   ],
   "metadata": {
    "collapsed": false,
    "is_executing": true
   },
   "id": "5976a4d1ff53a76c"
  },
  {
   "cell_type": "code",
   "execution_count": null,
   "outputs": [],
   "source": [
    "#Side wash estimator\n",
    "#Equation for x_d\n",
    "def x_d_equation(x_hat,gamma):\n",
    "    return x_hat-np.tan(gamma*np.pi/180)\n",
    "#Full equation estimator given known information\n",
    "def epsilon_s(es_0,es_beta,beta):\n",
    "    return es_0 + es_beta*beta*(np.pi/180)\n",
    "\n",
    "def epsilon_beta(Cl_w,Ra_w,b_w,K_v,K_b,x,y,z,gamma):\n",
    "    #solve for x_hat,y_hat,z_hat,x_d\n",
    "    x_hat = (2*x)/(b_w*K_b)\n",
    "    y_hat = (2*y)/(b_w*K_b)\n",
    "    z_hat = (2*z)/(b_w*K_b)\n",
    "    x_d = x_d_equation(x_hat,gamma)\n",
    "    #lead coefficient\n",
    "    lead_co = -(K_v*x_d*Cl_w)/(Ra_w*K_b*np.pi**2)\n",
    "    var1 = ((-2*y_hat*(z_hat-1))/(y_hat**2 + (z_hat-1)**2)**2)*(1+((x_d)/(np.sqrt(x_d**2 + y_hat**2 + (z_hat-1)**2))))\n",
    "    var2 = ((2*y_hat*(z_hat+1))/(y_hat**2 + (z_hat+1)**2)**2)*(1+((x_d)/(np.sqrt(x_d**2 + y_hat**2 + (z_hat+1)**2))))\n",
    "    var3 = (y_hat/(y_hat**2 + (z_hat-1)**2))* ((x_d*(z_hat-1))/((x_d**2 + y_hat**2 + (z_hat-1)**2)**(3/2)))\n",
    "    var4 = (y_hat/(y_hat**2 + (z_hat+1)**2))* ((x_d*(z_hat+1))/((x_d**2 + y_hat**2 + (z_hat+1)**2)**(3/2)))\n",
    "    return lead_co*(var1+var2-var3+var4)\n",
    "\n",
    "def epsilon_beta_simplified(CL_w,RA_w,K_v,K_beta,K_b):\n",
    "    return -(CL_w*K_v*K_beta)/(K_b*RA_w)\n",
    "\n",
    "#function to get the K_beta value using the equation where it lies on axis of sym ie Z=0\n",
    "def get_K_beta_val_Z_zero(K_b,b_w,gamma,x,y):\n",
    "    x_hat = (2*x)/(b_w*K_b)\n",
    "    y_hat = (2*y)/(b_w*K_b)\n",
    "    x_d = x_d_equation(x_hat,gamma)\n",
    "    var1 = ((4*y_hat*x_d)/(np.pi**2 *(y_hat**2 + 1)**2)) *(1+((x_d)/(np.sqrt(x_d**2 + y_hat**2 +1 ))))\n",
    "    var2 = ((2*y_hat)/(np.pi**2 *(y_hat**2 + 1)**2)) *((x_d**2)/((x_d**2 + y_hat**2 +1)**(3/2)))\n",
    "    return var1 + var2\n",
    "\n",
    "def get_CL_v_effective(RA_eff,K_L,C_L_alpha_tilda):\n",
    "    return C_L_alpha_tilda/((1+C_L_alpha_tilda/(1*np.pi*RA_eff))*(1+K_L))"
   ],
   "metadata": {
    "collapsed": false,
    "is_executing": true
   },
   "id": "3a5da937758ad60"
  },
  {
   "cell_type": "code",
   "execution_count": null,
   "outputs": [],
   "source": [
    "#Quiz 11 answers\n",
    "print(get_CL_val(22000,0,0.000364,500*(5280/3600),1000))\n",
    "print(get_K_beta_val_Z_zero(0.80,100,10,37,10))\n",
    "print(epsilon_beta_simplified(0.30,10,0.98,get_K_beta_val_Z_zero(0.80,100,10,37,10),0.80))\n",
    "print(get_CL_v_effective(8,0.012,2*np.pi))"
   ],
   "metadata": {
    "collapsed": false,
    "is_executing": true
   },
   "id": "initial_id"
  }
 ],
 "metadata": {
  "kernelspec": {
   "display_name": "Python 3",
   "language": "python",
   "name": "python3"
  },
  "language_info": {
   "codemirror_mode": {
    "name": "ipython",
    "version": 2
   },
   "file_extension": ".py",
   "mimetype": "text/x-python",
   "name": "python",
   "nbconvert_exporter": "python",
   "pygments_lexer": "ipython2",
   "version": "2.7.6"
  }
 },
 "nbformat": 4,
 "nbformat_minor": 5
}
