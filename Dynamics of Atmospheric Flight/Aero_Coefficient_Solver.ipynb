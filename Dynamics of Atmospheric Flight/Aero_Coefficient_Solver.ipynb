{
 "cells": [
  {
   "cell_type": "code",
   "execution_count": 1,
   "id": "e29a1fc3c1da0979",
   "metadata": {
    "collapsed": true,
    "is_executing": true
   },
   "outputs": [],
   "source": [
    "import numpy as np\n",
    "import pandas as pd\n",
    "import matplotlib.pyplot as plt"
   ]
  },
  {
   "cell_type": "code",
   "execution_count": 2,
   "id": "142ffb659659e8a2",
   "metadata": {
    "collapsed": false,
    "is_executing": true
   },
   "outputs": [
    {
     "name": "stdout",
     "output_type": "stream",
     "text": [
      "1.0439788293848493\n"
     ]
    }
   ],
   "source": [
    "#Set up Intial array\n",
    "X = 17.13\n",
    "K_b = 0.75\n",
    "Y = 0\n",
    "B_w = 30\n",
    "Lambda_deg = 32 #degrees\n",
    "def get_K_s_val(X,Y,B_w,K_b,Lambda_deg):\n",
    "    Lambda_rad = Lambda_deg*np.pi/180\n",
    "    X_bar = X/(B_w*0.5)\n",
    "    Y_bar = Y/(B_w*0.5)\n",
    "    r_bar = np.sqrt(X_bar**2+Y_bar**2)\n",
    "    s_bar = K_b*np.tan(Lambda_rad)\n",
    "    t_bar = np.sqrt((X_bar-s_bar)**2+Y_bar**2+K_b**2)\n",
    "    t_0bar = np.sqrt(X_bar**2+Y_bar**2+K_b**2)\n",
    "    top = 1 + (X_bar-s_bar)/(t_bar) + (X_bar*(r_bar+t_bar)*(t_0bar**2 - X_bar**2))/(r_bar*t_bar*(r_bar*t_bar+r_bar**2 -X_bar*s_bar))\n",
    "    bottom = 1 + (X_bar*(r_bar**2 + t_0bar**2 -X_bar**2))/(t_0bar*r_bar**2 )\n",
    "    K_s = top/bottom\n",
    "    return K_s\n",
    "K_s = get_K_s_val(X,Y,B_w,K_b,Lambda_deg)\n",
    "print(K_s)\n"
   ]
  },
  {
   "cell_type": "code",
   "execution_count": 3,
   "id": "5976a4d1ff53a76c",
   "metadata": {
    "collapsed": false,
    "is_executing": true
   },
   "outputs": [
    {
     "name": "stdout",
     "output_type": "stream",
     "text": [
      "1.1357602243957488\n"
     ]
    }
   ],
   "source": [
    "# CL solver\n",
    "\n",
    "def get_CL_val(W,gamma,rho,vinf,sw):\n",
    "    return W*np.cos(gamma*np.pi/180)/(0.5*rho*vinf**2 *sw)\n",
    "CL = get_CL_val(20500,0,0.0023769,225,300)\n",
    "print(CL)\n"
   ]
  },
  {
   "cell_type": "code",
   "execution_count": 4,
   "id": "3a5da937758ad60",
   "metadata": {
    "collapsed": false,
    "is_executing": true
   },
   "outputs": [],
   "source": [
    "#Side wash estimator\n",
    "#Equation for x_d\n",
    "def x_d_equation(x_hat,gamma):\n",
    "    return x_hat-np.tan(gamma*np.pi/180)\n",
    "#Full equation estimator given known information\n",
    "def epsilon_s(es_0,es_beta,beta):\n",
    "    return es_0 + es_beta*beta*(np.pi/180)\n",
    "\n",
    "def epsilon_beta(Cl_w,Ra_w,b_w,K_v,K_b,x,y,z,gamma):\n",
    "    #solve for x_hat,y_hat,z_hat,x_d\n",
    "    x_hat = (2*x)/(b_w*K_b)\n",
    "    y_hat = (2*y)/(b_w*K_b)\n",
    "    z_hat = (2*z)/(b_w*K_b)\n",
    "    x_d = x_d_equation(x_hat,gamma)\n",
    "    #lead coefficient\n",
    "    lead_co = -(K_v*x_d*Cl_w)/(Ra_w*K_b*np.pi**2)\n",
    "    var1 = ((-2*y_hat*(z_hat-1))/(y_hat**2 + (z_hat-1)**2)**2)*(1+((x_d)/(np.sqrt(x_d**2 + y_hat**2 + (z_hat-1)**2))))\n",
    "    var2 = ((2*y_hat*(z_hat+1))/(y_hat**2 + (z_hat+1)**2)**2)*(1+((x_d)/(np.sqrt(x_d**2 + y_hat**2 + (z_hat+1)**2))))\n",
    "    var3 = (y_hat/(y_hat**2 + (z_hat-1)**2))* ((x_d*(z_hat-1))/((x_d**2 + y_hat**2 + (z_hat-1)**2)**(3/2)))\n",
    "    var4 = (y_hat/(y_hat**2 + (z_hat+1)**2))* ((x_d*(z_hat+1))/((x_d**2 + y_hat**2 + (z_hat+1)**2)**(3/2)))\n",
    "    return lead_co*(var1+var2-var3+var4)\n",
    "\n",
    "def epsilon_beta_simplified(CL_w,RA_w,K_v,K_beta,K_b):\n",
    "    return -(CL_w*K_v*K_beta)/(K_b*RA_w)\n",
    "\n",
    "#function to get the K_beta value using the equation where it lies on axis of sym ie Z=0\n",
    "def get_K_beta_val_Z_zero(K_b,b_w,gamma,x,y):\n",
    "    x_hat = (2*x)/(b_w*K_b)\n",
    "    y_hat = (2*y)/(b_w*K_b)\n",
    "    x_d = x_d_equation(x_hat,gamma)\n",
    "    var1 = ((4*y_hat*x_d)/(np.pi**2 *(y_hat**2 + 1)**2)) *(1+((x_d)/(np.sqrt(x_d**2 + y_hat**2 +1 ))))\n",
    "    var2 = ((2*y_hat)/(np.pi**2 *(y_hat**2 + 1)**2)) *((x_d**2)/((x_d**2 + y_hat**2 +1)**(3/2)))\n",
    "    return var1 + var2\n",
    "\n",
    "def get_CL_v_effective(RA_eff,K_L,C_L_alpha_tilda):\n",
    "    return C_L_alpha_tilda/((1+C_L_alpha_tilda/(1*np.pi*RA_eff))*(1+K_L))\n",
    "\n",
    "def Vel_Min_Power(Cd0,Cd1,RA,e,w,Sw,rho_air):\n",
    "    co_1 = np.pi*e*RA*Cd1\n",
    "    co_2 = 12*np.pi*RA*Cd0\n",
    "    co_3 = np.sqrt((w/Sw)/rho_air)\n",
    "    return (2/np.sqrt(co_1+np.sqrt(co_1**2 + co_2)))*co_3\n",
    "\n",
    "def Vel_Min_Drag(e,RA,Cd0,W,Sw,rho_air):\n",
    "    return (np.sqrt(2)/np.sqrt(np.sqrt(np.pi*e*RA*Cd0)))*np.sqrt((W/Sw)/rho_air)\n",
    "\n",
    "def Vel_Min_Stall(CL_max,W,Sw,rho_air):\n",
    "    return np.sqrt(2/CL_max)*np.sqrt((W/Sw)/rho_air)"
   ]
  },
  {
   "cell_type": "code",
   "execution_count": 5,
   "id": "initial_id",
   "metadata": {
    "collapsed": false,
    "is_executing": true
   },
   "outputs": [
    {
     "name": "stdout",
     "output_type": "stream",
     "text": [
      "0.22477522477522482\n",
      "0.11884776964844729\n",
      "-0.004367655534580438\n",
      "4.9669449068613325\n"
     ]
    }
   ],
   "source": [
    "#Quiz 11 answers\n",
    "print(get_CL_val(22000,0,0.000364,500*(5280/3600),1000))\n",
    "print(get_K_beta_val_Z_zero(0.80,100,10,37,10))\n",
    "print(epsilon_beta_simplified(0.30,10,0.98,get_K_beta_val_Z_zero(0.80,100,10,37,10),0.80))\n",
    "print(get_CL_v_effective(8,0.012,2*np.pi))\n",
    "\n"
   ]
  },
  {
   "cell_type": "code",
   "execution_count": 6,
   "id": "01cfcd0f",
   "metadata": {},
   "outputs": [
    {
     "name": "stdout",
     "output_type": "stream",
     "text": [
      "12.637370540208709\n",
      "17.52293363050643\n",
      "10.752620033522781\n"
     ]
    }
   ],
   "source": [
    "#giving the informaiton for A_20 of Project, baseline Glider\n",
    "RA = 12\n",
    "Clmax = 0\n",
    "rho_air = 0.002048\n",
    "Sw = 6.75\n",
    "weight = 1.1002\n",
    "e = 0.6854\n",
    "cd0 = 0.0104\n",
    "cd1 = -0.0071\n",
    "CL_max = 1.3767\n",
    "print(Vel_Min_Power(cd0,cd1,RA,e,weight,Sw,rho_air))\n",
    "print(Vel_Min_Drag(e,RA,cd0,weight,Sw,rho_air))\n",
    "print(Vel_Min_Stall(CL_max,weight,Sw,rho_air))\n",
    "\n"
   ]
  },
  {
   "cell_type": "code",
   "execution_count": 9,
   "id": "dc29dc07",
   "metadata": {},
   "outputs": [
    {
     "name": "stdout",
     "output_type": "stream",
     "text": [
      "Minimum Power Required Velocity: 8.711235869344145\n",
      "Minimum Drag Velocity: 12.563503944440152\n",
      "Minimum Velocity to Stall: 9.03490894665049\n"
     ]
    }
   ],
   "source": [
    "#giving the informaiton for A_20 of Project, baseline Glider\n",
    "RA = 21.3333333\n",
    "rho_air = 0.002048\n",
    "Sw = 6.75\n",
    "weight = 0.80526\n",
    "e = 0.55675\n",
    "cd0 = 0.01460\n",
    "cd1 = -0.0101\n",
    "CL_max = 1.4272 #happens at 5.7 angle of attack\n",
    "print(f'Minimum Power Required Velocity: {Vel_Min_Power(cd0,cd1,RA,e,weight,Sw,rho_air)}')\n",
    "print(f'Minimum Drag Velocity: {Vel_Min_Drag(e,RA,cd0,weight,Sw,rho_air)}')\n",
    "print(f'Minimum Velocity to Stall: {Vel_Min_Stall(CL_max,weight,Sw,rho_air)}')"
   ]
  }
 ],
 "metadata": {
  "kernelspec": {
   "display_name": "Python 3",
   "language": "python",
   "name": "python3"
  },
  "language_info": {
   "codemirror_mode": {
    "name": "ipython",
    "version": 3
   },
   "file_extension": ".py",
   "mimetype": "text/x-python",
   "name": "python",
   "nbconvert_exporter": "python",
   "pygments_lexer": "ipython3",
   "version": "3.11.8"
  }
 },
 "nbformat": 4,
 "nbformat_minor": 5
}
