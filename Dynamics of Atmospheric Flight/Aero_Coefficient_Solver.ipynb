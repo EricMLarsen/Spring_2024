{
 "cells": [
  {
   "cell_type": "code",
   "execution_count": 1,
   "id": "e29a1fc3c1da0979",
   "metadata": {
    "collapsed": true,
    "is_executing": true
   },
   "outputs": [],
   "source": [
    "import numpy as np\n",
    "import pandas as pd\n",
    "import matplotlib.pyplot as plt"
   ]
  },
  {
   "cell_type": "code",
   "execution_count": 2,
   "id": "142ffb659659e8a2",
   "metadata": {
    "collapsed": false,
    "is_executing": true
   },
   "outputs": [
    {
     "name": "stdout",
     "output_type": "stream",
     "text": [
      "1.0439788293848493\n"
     ]
    }
   ],
   "source": [
    "#Set up Intial array\n",
    "X = 17.13\n",
    "K_b = 0.75\n",
    "Y = 0\n",
    "B_w = 30\n",
    "Lambda_deg = 32 #degrees\n",
    "def get_K_s_val(X,Y,B_w,K_b,Lambda_deg):\n",
    "    Lambda_rad = Lambda_deg*np.pi/180\n",
    "    X_bar = X/(B_w*0.5)\n",
    "    Y_bar = Y/(B_w*0.5)\n",
    "    r_bar = np.sqrt(X_bar**2+Y_bar**2)\n",
    "    s_bar = K_b*np.tan(Lambda_rad)\n",
    "    t_bar = np.sqrt((X_bar-s_bar)**2+Y_bar**2+K_b**2)\n",
    "    t_0bar = np.sqrt(X_bar**2+Y_bar**2+K_b**2)\n",
    "    top = 1 + (X_bar-s_bar)/(t_bar) + (X_bar*(r_bar+t_bar)*(t_0bar**2 - X_bar**2))/(r_bar*t_bar*(r_bar*t_bar+r_bar**2 -X_bar*s_bar))\n",
    "    bottom = 1 + (X_bar*(r_bar**2 + t_0bar**2 -X_bar**2))/(t_0bar*r_bar**2 )\n",
    "    K_s = top/bottom\n",
    "    return K_s\n",
    "K_s = get_K_s_val(X,Y,B_w,K_b,Lambda_deg)\n",
    "print(K_s)\n"
   ]
  },
  {
   "cell_type": "code",
   "execution_count": 3,
   "id": "5976a4d1ff53a76c",
   "metadata": {
    "collapsed": false,
    "is_executing": true
   },
   "outputs": [
    {
     "name": "stdout",
     "output_type": "stream",
     "text": [
      "1.1357602243957488\n"
     ]
    }
   ],
   "source": [
    "# CL solver\n",
    "\n",
    "def get_CL_val(W,gamma,rho,vinf,sw):\n",
    "    return W*np.cos(gamma*np.pi/180)/(0.5*rho*vinf**2 *sw)\n",
    "CL = get_CL_val(20500,0,0.0023769,225,300)\n",
    "print(CL)\n"
   ]
  },
  {
   "cell_type": "code",
   "execution_count": 4,
   "id": "3a5da937758ad60",
   "metadata": {
    "collapsed": false,
    "is_executing": true
   },
   "outputs": [],
   "source": [
    "#Side wash estimator\n",
    "#Equation for x_d\n",
    "def x_d_equation(x_hat,gamma):\n",
    "    return x_hat-np.tan(gamma*np.pi/180)\n",
    "#Full equation estimator given known information\n",
    "def epsilon_s(es_0,es_beta,beta):\n",
    "    return es_0 + es_beta*beta*(np.pi/180)\n",
    "\n",
    "def epsilon_beta(Cl_w,Ra_w,b_w,K_v,K_b,x,y,z,gamma):\n",
    "    #solve for x_hat,y_hat,z_hat,x_d\n",
    "    x_hat = (2*x)/(b_w*K_b)\n",
    "    y_hat = (2*y)/(b_w*K_b)\n",
    "    z_hat = (2*z)/(b_w*K_b)\n",
    "    x_d = x_d_equation(x_hat,gamma)\n",
    "    #lead coefficient\n",
    "    lead_co = -(K_v*x_d*Cl_w)/(Ra_w*K_b*np.pi**2)\n",
    "    var1 = ((-2*y_hat*(z_hat-1))/(y_hat**2 + (z_hat-1)**2)**2)*(1+((x_d)/(np.sqrt(x_d**2 + y_hat**2 + (z_hat-1)**2))))\n",
    "    var2 = ((2*y_hat*(z_hat+1))/(y_hat**2 + (z_hat+1)**2)**2)*(1+((x_d)/(np.sqrt(x_d**2 + y_hat**2 + (z_hat+1)**2))))\n",
    "    var3 = (y_hat/(y_hat**2 + (z_hat-1)**2))* ((x_d*(z_hat-1))/((x_d**2 + y_hat**2 + (z_hat-1)**2)**(3/2)))\n",
    "    var4 = (y_hat/(y_hat**2 + (z_hat+1)**2))* ((x_d*(z_hat+1))/((x_d**2 + y_hat**2 + (z_hat+1)**2)**(3/2)))\n",
    "    return lead_co*(var1+var2-var3+var4)\n",
    "\n",
    "def epsilon_beta_simplified(CL_w,RA_w,K_v,K_beta,K_b):\n",
    "    return -(CL_w*K_v*K_beta)/(K_b*RA_w)\n",
    "\n",
    "#function to get the K_beta value using the equation where it lies on axis of sym ie Z=0\n",
    "def get_K_beta_val_Z_zero(K_b,b_w,gamma,x,y):\n",
    "    x_hat = (2*x)/(b_w*K_b)\n",
    "    y_hat = (2*y)/(b_w*K_b)\n",
    "    x_d = x_d_equation(x_hat,gamma)\n",
    "    var1 = ((4*y_hat*x_d)/(np.pi**2 *(y_hat**2 + 1)**2)) *(1+((x_d)/(np.sqrt(x_d**2 + y_hat**2 +1 ))))\n",
    "    var2 = ((2*y_hat)/(np.pi**2 *(y_hat**2 + 1)**2)) *((x_d**2)/((x_d**2 + y_hat**2 +1)**(3/2)))\n",
    "    return var1 + var2\n",
    "\n",
    "def get_CL_v_effective(RA_eff,K_L,C_L_alpha_tilda):\n",
    "    return C_L_alpha_tilda/((1+C_L_alpha_tilda/(1*np.pi*RA_eff))*(1+K_L))\n",
    "\n",
    "def Vel_Min_Power(Cd0,Cd1,RA,e,w,Sw,rho_air):\n",
    "    co_1 = np.pi*e*RA*Cd1\n",
    "    co_2 = 12*np.pi*RA*Cd0\n",
    "    co_3 = np.sqrt((w/Sw)/rho_air)\n",
    "    return (2/np.sqrt(co_1+np.sqrt(co_1**2 + co_2)))*co_3\n",
    "\n",
    "def Vel_Min_Drag(e,RA,Cd0,W,Sw,rho_air):\n",
    "    return (np.sqrt(2)/np.sqrt(np.sqrt(np.pi*e*RA*Cd0)))*np.sqrt((W/Sw)/rho_air)\n",
    "\n",
    "def Vel_Min_Stall(CL_max,W,Sw,rho_air):\n",
    "    return np.sqrt(2/CL_max)*np.sqrt((W/Sw)/rho_air)"
   ]
  },
  {
   "cell_type": "code",
   "execution_count": 5,
   "id": "initial_id",
   "metadata": {
    "collapsed": false,
    "is_executing": true
   },
   "outputs": [
    {
     "name": "stdout",
     "output_type": "stream",
     "text": [
      "0.22477522477522482\n",
      "0.11884776964844729\n",
      "-0.004367655534580438\n",
      "4.9669449068613325\n"
     ]
    }
   ],
   "source": [
    "#Quiz 11 answers\n",
    "print(get_CL_val(22000,0,0.000364,500*(5280/3600),1000))\n",
    "print(get_K_beta_val_Z_zero(0.80,100,10,37,10))\n",
    "print(epsilon_beta_simplified(0.30,10,0.98,get_K_beta_val_Z_zero(0.80,100,10,37,10),0.80))\n",
    "print(get_CL_v_effective(8,0.012,2*np.pi))\n",
    "\n"
   ]
  },
  {
   "cell_type": "code",
   "execution_count": 6,
   "id": "01cfcd0f",
   "metadata": {},
   "outputs": [
    {
     "name": "stdout",
     "output_type": "stream",
     "text": [
      "12.637370540208709\n",
      "17.52293363050643\n",
      "10.752620033522781\n"
     ]
    }
   ],
   "source": [
    "#giving the informaiton for A_20 of Project, baseline Glider\n",
    "RA = 12\n",
    "Clmax = 0\n",
    "rho_air = 0.002048\n",
    "Sw = 6.75\n",
    "weight = 1.1002\n",
    "e = 0.6854\n",
    "cd0 = 0.0104\n",
    "cd1 = -0.0071\n",
    "CL_max = 1.3767\n",
    "print(Vel_Min_Power(cd0,cd1,RA,e,weight,Sw,rho_air))\n",
    "print(Vel_Min_Drag(e,RA,cd0,weight,Sw,rho_air))\n",
    "print(Vel_Min_Stall(CL_max,weight,Sw,rho_air))\n",
    "\n"
   ]
  },
  {
   "cell_type": "code",
   "execution_count": 7,
   "id": "dc29dc07",
   "metadata": {},
   "outputs": [
    {
     "name": "stdout",
     "output_type": "stream",
     "text": [
      "Minimum Power Required Velocity: 8.711235869344145\n",
      "Minimum Drag Velocity: 12.563503944440152\n",
      "Minimum Velocity to Stall: 9.03490894665049\n"
     ]
    }
   ],
   "source": [
    "#giving the informaiton for A_20 of Project, baseline Glider\n",
    "RA = 21.3333333\n",
    "rho_air = 0.002048\n",
    "Sw = 6.75\n",
    "weight = 0.80526\n",
    "e = 0.55675\n",
    "cd0 = 0.01460\n",
    "cd1 = -0.0101\n",
    "CL_max = 1.4272 #happens at 5.7 angle of attack\n",
    "print(f'Minimum Power Required Velocity: {Vel_Min_Power(cd0,cd1,RA,e,weight,Sw,rho_air)}')\n",
    "print(f'Minimum Drag Velocity: {Vel_Min_Drag(e,RA,cd0,weight,Sw,rho_air)}')\n",
    "print(f'Minimum Velocity to Stall: {Vel_Min_Stall(CL_max,weight,Sw,rho_air)}')\n",
    "\n"
   ]
  },
  {
   "cell_type": "code",
   "execution_count": 8,
   "id": "425d2d6c",
   "metadata": {},
   "outputs": [
    {
     "name": "stdout",
     "output_type": "stream",
     "text": [
      "Minimum Power Required Velocity: 8.444415716092584\n",
      "Minimum Drag Velocity: 12.539839060343208\n",
      "Minimum Velocity to Stall: 9.06992157306063\n"
     ]
    }
   ],
   "source": [
    "\n",
    "#giving the informaiton for A_20 of Project, baseline Glider, 6917_new dynamic mode\n",
    "RA = 23.80952\n",
    "rho_air = 0.002048\n",
    "Sw = 6.5625\n",
    "weight = 0.78676\n",
    "e = 0.48438\n",
    "cd0 = 0.01530\n",
    "cd1 = -0.01240\n",
    "CL_max = 1.4232 #happens at 5.7 angle of attack\n",
    "print(f'Minimum Power Required Velocity: {Vel_Min_Power(cd0,cd1,RA,e,weight,Sw,rho_air)}')\n",
    "print(f'Minimum Drag Velocity: {Vel_Min_Drag(e,RA,cd0,weight,Sw,rho_air)}')\n",
    "print(f'Minimum Velocity to Stall: {Vel_Min_Stall(CL_max,weight,Sw,rho_air)}')\n"
   ]
  },
  {
   "cell_type": "code",
   "execution_count": 9,
   "id": "4973d986",
   "metadata": {},
   "outputs": [
    {
     "name": "stdout",
     "output_type": "stream",
     "text": [
      "\n",
      "Damping Rate Roll Mode: 2.01923763062458\n",
      "Damping Time 99%: 2.280647961460407\n",
      "\n",
      "Damping Rate Spiral Mode: 0.0026582030323024034\n",
      "Damping Time 99%: 1732.4373383169761\n",
      "\n",
      "Damping Rate Dutch Roll Mode: -1.3096289064671198\n",
      "Doubling Time: 0.5292699154219133\n",
      "Damped Frequency[rad/s]: 5.754545881520417\n",
      "Period [s]: 1.0918646643094445\n",
      "RDS = 0.0073\n",
      "Dutch Freq = 5.754545881520417\n",
      "Dutch Damp = -1.3096289064671198\n"
     ]
    }
   ],
   "source": [
    "#Eigenvalue approximations, Quiz 26 \n",
    "\n",
    "#Coefficients\n",
    "\n",
    "\n",
    "#Get the moment information of aircraft\n",
    "I_xx = 14890\n",
    "\n",
    "\n",
    "\n",
    "\n",
    "#Wing Information\n",
    "Wing_Area = 300\n",
    "Wing_Span = 30\n",
    "Wing_MeanChord = Wing_Area/Wing_Span\n",
    "\n",
    "#################  Air Properties  ########################################\n",
    "\n",
    "#density\n",
    "Air_Density = 0.0023084\n",
    "\n",
    "#################  Aerodynamic Properties  #################################\n",
    "\n",
    "#CL values\n",
    "CL_0 = 0.370\n",
    "CL_alpha = 4.2875\n",
    "CL_qbar = 3.4827\n",
    "CL_alpha_hat = 0.67838\n",
    "\n",
    "#CY values\n",
    "CY_beta = 3.0112\n",
    "CY_pbar = 0.7032\n",
    "CY_rbar = 1.2444\n",
    "\n",
    "#CD values\n",
    "CD_0 = 0.0298\n",
    "CD_alpha = 0.3239\n",
    "CD_qbar = 0.7183\n",
    "\n",
    "#Cl Values\n",
    "Cl_beta = -0.287\n",
    "Cl_pbar = -0.4824\n",
    "Cl_rbar = 0.1274\n",
    "\n",
    "#Cm Values\n",
    "Cm_alpha = -0.7959\n",
    "Cm_qbar = -4.6718\n",
    "Cm_alpha_hat = -0.77143\n",
    "\n",
    "#Cn values\n",
    "Cn_beta = 0.992\n",
    "Cn_pbar = -0.2311\n",
    "Cn_rbar = -0.5031\n",
    "\n",
    "#################  Solved Variables ############################################\n",
    "\n",
    "#Gravity at location\n",
    "g = 32.17 #gravity at logan elevation used for design\n",
    "\n",
    "#Solve for the inital velocity given the launch conditions\n",
    "#V_0 = np.sqrt(2*Launch_Energy*g/Weight) #Need to check if this is correct, don't do this, but we can do this later\n",
    "\n",
    "#Get V_0 from the CL\n",
    "V_0 = 400\n",
    "\n",
    "\n",
    "R_gx = 0.001\n",
    "R_gy = 0.003 \n",
    "#10.74\n",
    "R_rhox = 368.02\n",
    "R_rhoy = 122.67\n",
    "#10.75 \n",
    "R_xx = 6.371\n",
    "R_yy = 644.76\n",
    "R_zz = 24.689\n",
    "R_xz = 6.912\n",
    "\n",
    "\n",
    "\n",
    "#Roll Mode\n",
    "\n",
    "sigma_r = ((-V_0*Air_Density*Wing_Area*Wing_Span**2)/(4*I_xx))*Cl_pbar\n",
    "print(f'\\nDamping Rate Roll Mode: {sigma_r}')\n",
    "if sigma_r > 0:\n",
    "    print(f'Damping Time 99%: {np.log(0.01)/-sigma_r}')\n",
    "else:\n",
    "    print(f'Doubling Time: {np.log(2)/sigma_r}')\n",
    "\n",
    "#spiral mode\n",
    "\n",
    "sigma_spiral = (g/V_0)*((Cl_beta*Cn_rbar - Cl_rbar*Cn_beta)/(Cl_beta*Cn_pbar - Cl_pbar*Cn_beta))\n",
    "print(f'\\nDamping Rate Spiral Mode: {sigma_spiral}')\n",
    "if sigma_spiral > 0:\n",
    "    print(f'Damping Time 99%: {np.log(0.01)/-sigma_spiral}')\n",
    "else:\n",
    "    print(f'Doubling Time: {np.log(2)/-sigma_spiral}')\n",
    "\n",
    "#Dutch Roll Approx\n",
    "R_Ds = (Cl_beta*(R_gy*R_rhoy*R_zz-(R_rhoy-CY_rbar)*Cn_pbar) -CY_beta*Cl_rbar*Cn_pbar)/(R_rhoy*R_zz*Cl_pbar)\n",
    "R_Ds = 0.0073\n",
    "sigma_dr = (-V_0/Wing_Span)*(CY_beta/R_rhoy + Cn_rbar/R_zz - (Cl_rbar*Cn_pbar)/(Cl_pbar*R_zz) + (R_gy*(Cl_rbar*Cn_beta - Cl_beta*Cn_rbar))/(Cl_pbar*(Cn_beta+CY_beta*Cn_rbar/R_rhoy)) - R_xx*(R_Ds/Cl_pbar) )\n",
    "Frequency_dr = (2*V_0/Wing_Span)*np.sqrt((1-CY_rbar/R_rhoy)*(Cn_beta/R_zz) + (CY_beta*Cn_rbar)/(R_rhoy*R_zz) + R_Ds -0.25*(CY_beta/R_rhoy + Cn_rbar/R_zz)**2 )\n",
    "\n",
    "\n",
    "print(f'\\nDamping Rate Dutch Roll Mode: {sigma_dr}')\n",
    "if sigma_dr > 0:\n",
    "    print(f'Damping Time 99%: {np.log(0.01)/-sigma_dr}')\n",
    "else:\n",
    "    print(f'Doubling Time: {np.log(2)/-sigma_dr}')\n",
    "if Frequency_dr != 0:\n",
    "    print(f'Damped Frequency[rad/s]: {Frequency_dr}')\n",
    "    print(f'Period [s]: {2*np.pi/Frequency_dr}')\n",
    "#print results\n",
    "    \n",
    "print(f'RDS = {R_Ds}')\n",
    "print(f'Dutch Freq = {Frequency_dr}')\n",
    "print(f'Dutch Damp = {sigma_dr}')"
   ]
  }
 ],
 "metadata": {
  "kernelspec": {
   "display_name": "Python 3",
   "language": "python",
   "name": "python3"
  },
  "language_info": {
   "codemirror_mode": {
    "name": "ipython",
    "version": 3
   },
   "file_extension": ".py",
   "mimetype": "text/x-python",
   "name": "python",
   "nbconvert_exporter": "python",
   "pygments_lexer": "ipython3",
   "version": "3.11.9"
  }
 },
 "nbformat": 4,
 "nbformat_minor": 5
}
