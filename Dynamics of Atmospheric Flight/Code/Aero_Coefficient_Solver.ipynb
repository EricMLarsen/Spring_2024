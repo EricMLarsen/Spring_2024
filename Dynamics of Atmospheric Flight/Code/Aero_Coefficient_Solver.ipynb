{
 "cells": [
  {
   "cell_type": "code",
   "execution_count": 29,
   "id": "e29a1fc3c1da0979",
   "metadata": {
    "collapsed": true,
    "ExecuteTime": {
     "end_time": "2024-02-01T20:51:29.574845600Z",
     "start_time": "2024-02-01T20:51:29.574845600Z"
    }
   },
   "outputs": [],
   "source": [
    "import numpy as np\n",
    "import pandas as pd\n",
    "import matplotlib.pyplot as plt"
   ]
  },
  {
   "cell_type": "code",
   "execution_count": 0,
   "outputs": [],
   "source": [
    "#Set up Intial array\n",
    "X = 17.13\n",
    "K_b = 0.75\n",
    "Y = 0\n",
    "B_w = 30\n",
    "Lambda_deg = 32 #degrees\n",
    "def get_K_s_val(X,Y,B_w,K_b,Lambda_deg):\n",
    "    Lambda_rad = Lambda_deg*np.pi/180\n",
    "    X_bar = X/(B_w*0.5)\n",
    "    Y_bar = Y/(B_w*0.5)\n",
    "    r_bar = np.sqrt(X_bar**2+Y_bar**2)\n",
    "    s_bar = K_b*np.tan(Lambda_rad)\n",
    "    t_bar = np.sqrt((X_bar-s_bar)**2+Y_bar**2+K_b**2)\n",
    "    t_0bar = np.sqrt(X_bar**2+Y_bar**2+K_b**2)\n",
    "    top = 1 + (X_bar-s_bar)/(t_bar) + (X_bar*(r_bar+t_bar)*(t_0bar**2 - X_bar**2))/(r_bar*t_bar*(r_bar*t_bar+r_bar**2 -X_bar*s_bar))\n",
    "    bottom = 1 + (X_bar*(r_bar**2 + t_0bar**2 -X_bar**2))/(t_0bar*r_bar**2 )\n",
    "    K_s = top/bottom\n",
    "    return K_s\n",
    "K_s = get_K_s_val(X,Y,B_w,K_b,Lambda_deg)\n",
    "print(K_s)\n"
   ],
   "metadata": {
    "collapsed": false
   },
   "id": "142ffb659659e8a2"
  },
  {
   "cell_type": "code",
   "execution_count": 31,
   "outputs": [
    {
     "name": "stdout",
     "output_type": "stream",
     "text": [
      "1.1357602243957488\n"
     ]
    }
   ],
   "source": [
    "# CL solver\n",
    "\n",
    "def get_CL_val(W,gamma,rho,vinf,sw):\n",
    "    return W*np.cos(gamma*np.pi/180)/(0.5*rho*vinf**2 *sw)\n",
    "CL = get_CL_val(20500,0,0.0023769,225,300)\n",
    "print(CL)"
   ],
   "metadata": {
    "collapsed": false,
    "ExecuteTime": {
     "end_time": "2024-02-01T21:50:27.807408300Z",
     "start_time": "2024-02-01T21:50:27.805076300Z"
    }
   },
   "id": "initial_id"
  }
 ],
 "metadata": {
  "kernelspec": {
   "display_name": "Python 3",
   "language": "python",
   "name": "python3"
  },
  "language_info": {
   "codemirror_mode": {
    "name": "ipython",
    "version": 2
   },
   "file_extension": ".py",
   "mimetype": "text/x-python",
   "name": "python",
   "nbconvert_exporter": "python",
   "pygments_lexer": "ipython2",
   "version": "2.7.6"
  }
 },
 "nbformat": 4,
 "nbformat_minor": 5
}
