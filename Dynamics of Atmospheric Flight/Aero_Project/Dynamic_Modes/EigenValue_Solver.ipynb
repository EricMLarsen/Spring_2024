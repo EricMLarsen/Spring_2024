{
 "cells": [
  {
   "cell_type": "code",
   "execution_count": null,
   "metadata": {},
   "outputs": [],
   "source": [
    "#import packages\n",
    "import scipy.linalg as scilin\n",
    "import numpy as np\n",
    "import json\n"
   ]
  },
  {
   "cell_type": "code",
   "execution_count": null,
   "metadata": {},
   "outputs": [],
   "source": [
    "#Functions Section"
   ]
  },
  {
   "cell_type": "code",
   "execution_count": 8,
   "metadata": {},
   "outputs": [
    {
     "name": "stdout",
     "output_type": "stream",
     "text": [
      "0.0708\n",
      "{'aircraft': {'name': 'Baseline Glider', 'launch_kinetic_energy[ft-lbf]': 4.5, 'wing_area[ft^2]': 6.75, 'wing_span[ft]': 9, 'weight[lbf]': 1.1013, 'Ixx[slugs*ft^2]': 0.0708, 'Iyy[slugs*ft^2]': 0.0527, 'Izz[slugs*ft^2]': 0.1196, 'Ixy[slugs*ft^2]': 0.0, 'Ixz[slugs*ft^2]': 0.0023, 'Iyz[slugs*ft^2]': 0.0}, 'analysis': {'density[slugs/ft^3]': 0.0020664}, 'aerodynamics': {'CL': {'0': 0.628, 'alpha': 5.478, 'qbar': 2.3594, 'alpha_hat': 0.7557}, 'CY': {'beta': -0.3795, 'pbar': -0.3336, 'rbar': 0.3481}, 'CD': {'L0': 0.0138, 'L': -0.00753, 'L2': 0.0391, 'qbar': 0.1241}, 'Cl': {'beta': -0.1423, 'pbar': -0.6309, 'rbar': 0.2747}, 'Cm': {'0': -0.0046, 'alpha': -1.3102, 'qbar': -9.7591, 'alpha_hat': -1.9067}, 'Cn': {'beta': 0.0856, 'pbar': -0.053, 'rbar': -0.0793}}}\n",
      "0.013727079327568704\n",
      "0.22777304880000002\n"
     ]
    }
   ],
   "source": [
    "#Read in the data from the JSON file\n",
    "filename_load = \"0000.json\"\n",
    "J_string = open(filename_load).read()\n",
    "J_vals = json.loads(J_string)\n",
    "\n",
    "#################  Aircraft Properties  ##################################\n",
    "\n",
    "#Get the moment information of aircraft\n",
    "I_xx = J_vals['aircraft']['Ixx[slugs*ft^2]']\n",
    "I_yy = J_vals['aircraft']['Iyy[slugs*ft^2]']\n",
    "I_zz = J_vals['aircraft']['Izz[slugs*ft^2]']\n",
    "I_xy = J_vals['aircraft']['Ixy[slugs*ft^2]']\n",
    "I_xz = J_vals['aircraft']['Ixz[slugs*ft^2]']\n",
    "\n",
    "#Name\n",
    "Plane_name = J_vals['aircraft']['name']\n",
    "\n",
    "#Wing Information\n",
    "Wing_Area = J_vals['aircraft']['wing_area[ft^2]']\n",
    "Wing_Span = J_vals['aircraft']['wing_span[ft]']\n",
    "\n",
    "#aircraft weight\n",
    "Weight = J_vals['aircraft']['weight[lbf]']\n",
    "\n",
    "#Launch Energy\n",
    "Launch_Energy = J_vals['aircraft']['launch_kinetic_energy[ft-lbf]']\n",
    "\n",
    "#################  Air Properties  ########################################\n",
    "\n",
    "#density\n",
    "Air_Density = J_vals['analysis']['density[slugs/ft^3]']\n",
    "\n",
    "#################  Aerodynamic Properties  #################################\n",
    "\n",
    "#CL values\n",
    "CL_0 = J_vals['aerodynamics']['CL']['0']\n",
    "CL_alpha = J_vals['aerodynamics']['CL']['alpha']\n",
    "CL_qbar = J_vals['aerodynamics']['CL']['qbar']\n",
    "CL_alpha_hat = J_vals['aerodynamics']['CL']['alpha_hat']\n",
    "\n",
    "#CY values\n",
    "CY_beta = J_vals['aerodynamics']['CY']['beta']\n",
    "CY_pbar = J_vals['aerodynamics']['CY']['pbar']\n",
    "CY_rbar = J_vals['aerodynamics']['CY']['rbar']\n",
    "\n",
    "#CD values\n",
    "CD_L0 = J_vals['aerodynamics']['CD']['L0']\n",
    "CD_L1 = J_vals['aerodynamics']['CD']['L']\n",
    "CD_L2 = J_vals['aerodynamics']['CD']['L2']\n",
    "CD_0 = CD_L0 + CD_L1*CL_0*CD_L2*CL_0**2\n",
    "CD_alpha = CD_L1*CL_alpha + 2*CD_L2*CL_0*CL_alpha\n",
    "CD_qbar = J_vals['aerodynamics']['CD']['qbar']\n",
    "\n",
    "#Cl Values\n",
    "Cl_beta = J_vals['aerodynamics']['Cl']['beta']\n",
    "Cl_pbar = J_vals['aerodynamics']['Cl']['pbar']\n",
    "Cl_rbar = J_vals['aerodynamics']['Cl']['rbar']\n",
    "\n",
    "#Cm Values\n",
    "Cm_0 = J_vals['aerodynamics']['Cm']['0']\n",
    "Cm_alpha = J_vals['aerodynamics']['Cm']['alpha']\n",
    "Cm_qbar = J_vals['aerodynamics']['Cm']['qbar']\n",
    "Cm_alpha_hat = J_vals['aerodynamics']['Cm']['alpha_hat']\n",
    "\n",
    "#Cn values\n",
    "Cn_beta = J_vals['aerodynamics']['Cn']['beta']\n",
    "Cn_pbar = J_vals['aerodynamics']['Cn']['pbar']\n",
    "Cn_rbar = J_vals['aerodynamics']['Cn']['rbar']\n",
    "\n"
   ]
  },
  {
   "cell_type": "code",
   "execution_count": null,
   "metadata": {},
   "outputs": [],
   "source": [
    "#Generating the Matrices"
   ]
  }
 ],
 "metadata": {
  "kernelspec": {
   "display_name": "Python 3",
   "language": "python",
   "name": "python3"
  },
  "language_info": {
   "codemirror_mode": {
    "name": "ipython",
    "version": 3
   },
   "file_extension": ".py",
   "mimetype": "text/x-python",
   "name": "python",
   "nbconvert_exporter": "python",
   "pygments_lexer": "ipython3",
   "version": "3.11.8"
  }
 },
 "nbformat": 4,
 "nbformat_minor": 2
}
