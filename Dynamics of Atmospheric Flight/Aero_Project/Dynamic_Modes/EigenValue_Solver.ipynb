{
 "cells": [
  {
   "cell_type": "code",
   "execution_count": 14,
   "metadata": {},
   "outputs": [],
   "source": [
    "#import packages\n",
    "import scipy.linalg as scilin\n",
    "import numpy as np\n",
    "import json\n"
   ]
  },
  {
   "cell_type": "code",
   "execution_count": 15,
   "metadata": {},
   "outputs": [],
   "source": [
    "#Functions Section"
   ]
  },
  {
   "cell_type": "code",
   "execution_count": 16,
   "metadata": {},
   "outputs": [
    {
     "name": "stdout",
     "output_type": "stream",
     "text": [
      "0.75\n"
     ]
    }
   ],
   "source": [
    "#Read in the data from the JSON file\n",
    "filename_load = \"0000.json\"\n",
    "J_string = open(filename_load).read()\n",
    "J_vals = json.loads(J_string)\n",
    "\n",
    "#################  Aircraft Properties  ##################################\n",
    "\n",
    "#Get the moment information of aircraft\n",
    "I_xx = J_vals['aircraft']['Ixx[slugs*ft^2]']\n",
    "I_yy = J_vals['aircraft']['Iyy[slugs*ft^2]']\n",
    "I_zz = J_vals['aircraft']['Izz[slugs*ft^2]']\n",
    "I_xy = J_vals['aircraft']['Ixy[slugs*ft^2]']\n",
    "I_xz = J_vals['aircraft']['Ixz[slugs*ft^2]']\n",
    "\n",
    "#Name\n",
    "Plane_name = J_vals['aircraft']['name']\n",
    "\n",
    "#Wing Information\n",
    "Wing_Area = J_vals['aircraft']['wing_area[ft^2]']\n",
    "Wing_Span = J_vals['aircraft']['wing_span[ft]']\n",
    "Wing_MeanChord = Wing_Area/Wing_Span\n",
    "\n",
    "#aircraft weight\n",
    "Weight = J_vals['aircraft']['weight[lbf]']\n",
    "\n",
    "#Launch Energy\n",
    "Launch_Energy = J_vals['aircraft']['launch_kinetic_energy[ft-lbf]']\n",
    "\n",
    "#################  Air Properties  ########################################\n",
    "\n",
    "#density\n",
    "Air_Density = J_vals['analysis']['density[slugs/ft^3]']\n",
    "\n",
    "#################  Aerodynamic Properties  #################################\n",
    "\n",
    "#CL values\n",
    "CL_0 = J_vals['aerodynamics']['CL']['0']\n",
    "CL_alpha = J_vals['aerodynamics']['CL']['alpha']\n",
    "CL_qbar = J_vals['aerodynamics']['CL']['qbar']\n",
    "CL_alpha_hat = J_vals['aerodynamics']['CL']['alpha_hat']\n",
    "\n",
    "#CY values\n",
    "CY_beta = J_vals['aerodynamics']['CY']['beta']\n",
    "CY_pbar = J_vals['aerodynamics']['CY']['pbar']\n",
    "CY_rbar = J_vals['aerodynamics']['CY']['rbar']\n",
    "\n",
    "#CD values\n",
    "CD_L0 = J_vals['aerodynamics']['CD']['L0']\n",
    "CD_L1 = J_vals['aerodynamics']['CD']['L']\n",
    "CD_L2 = J_vals['aerodynamics']['CD']['L2']\n",
    "CD_0 = CD_L0 + CD_L1*CL_0*CD_L2*CL_0**2\n",
    "CD_alpha = CD_L1*CL_alpha + 2*CD_L2*CL_0*CL_alpha\n",
    "CD_qbar = J_vals['aerodynamics']['CD']['qbar']\n",
    "\n",
    "#Cl Values\n",
    "Cl_beta = J_vals['aerodynamics']['Cl']['beta']\n",
    "Cl_pbar = J_vals['aerodynamics']['Cl']['pbar']\n",
    "Cl_rbar = J_vals['aerodynamics']['Cl']['rbar']\n",
    "\n",
    "#Cm Values\n",
    "Cm_0 = J_vals['aerodynamics']['Cm']['0']\n",
    "Cm_alpha = J_vals['aerodynamics']['Cm']['alpha']\n",
    "Cm_qbar = J_vals['aerodynamics']['Cm']['qbar']\n",
    "Cm_alpha_hat = J_vals['aerodynamics']['Cm']['alpha_hat']\n",
    "\n",
    "#Cn values\n",
    "Cn_beta = J_vals['aerodynamics']['Cn']['beta']\n",
    "Cn_pbar = J_vals['aerodynamics']['Cn']['pbar']\n",
    "Cn_rbar = J_vals['aerodynamics']['Cn']['rbar']\n",
    "\n",
    "#################  Solved Variables ############################################\n",
    "\n",
    "#Gravity at location\n",
    "g = 32.17 #gravity at logan elevation used for design\n",
    "\n",
    "#Solve for the inital velocity given the launch conditions\n",
    "V_0 = np.sqrt(2*Launch_Energy*g/Weight) #Need to check if this is correct?\n",
    "\n"
   ]
  },
  {
   "cell_type": "code",
   "execution_count": 17,
   "metadata": {},
   "outputs": [],
   "source": [
    "#Solving for all the Base Components found in eqs. 10.70-10.76 to then put into the matrices in 10.77 and 10.78, all variable must be unitless\n",
    "\n",
    "#10.70 -10.72 not required because we don't know these variables and this is a glider\n",
    "\n",
    "#10.73\n",
    "R_gx = (g*Wing_MeanChord)/(2*V_0**2) \n",
    "R_gy = (g*Wing_Span)/(2*V_0**2) \n",
    "#10.74\n",
    "R_rhox = (4*Weight/g)/(Air_Density*Wing_Area*Wing_MeanChord)\n",
    "R_rhoy = (4*Weight/g)/(Air_Density*Wing_Area*Wing_Span)\n",
    "#10.75 \n",
    "R_xx = (8*I_xx)/(Air_Density*Wing_Area*Wing_Span**3)\n",
    "R_yy = (8*I_yy)/(Air_Density*Wing_Area*Wing_MeanChord**3)\n",
    "R_zz = (8*I_zz)/(Air_Density*Wing_Area*Wing_Span**3)\n",
    "R_xz = (8*I_xz)/(Air_Density*Wing_Area*Wing_Span**3)\n",
    "#10.76\n",
    "#Not required since there is no thrust given this aircraft is a glider"
   ]
  },
  {
   "cell_type": "code",
   "execution_count": 18,
   "metadata": {},
   "outputs": [
    {
     "name": "stdout",
     "output_type": "stream",
     "text": [
      "[[13.08986418  0.          0.          0.          0.          0.        ]\n",
      " [ 0.          1.          0.          0.          0.          0.        ]\n",
      " [ 0.          0.          1.          0.          0.          0.        ]\n",
      " [ 0.          0.          0.          1.          0.          0.        ]\n",
      " [ 0.          0.          0.          0.          1.          0.        ]\n",
      " [ 0.          0.          0.          0.          0.          1.        ]]\n"
     ]
    }
   ],
   "source": [
    "#Generating the Matrices, going for the nondimensional form, Longitudinal Equations  \n",
    "#10.77 B mat is the LHS matrix, A mat is the RHS matrix\n",
    "A_mat_long = np.zeros([6,6])\n",
    "B_mat_long = np.identity(6)\n",
    "\n",
    "#Variables that could be changed, but assumed to be zero\n",
    "CD_mu = 0\n",
    "CL_mu_hat = 0\n",
    "Cm_mu_hat = 0\n",
    "CD_alpha_hat = 0\n",
    "\n",
    "\n",
    "#Fill in the B Matrix given what is known\n",
    "B_mat_long[0,0] = R_rhox\n",
    "\n",
    "print(A_mat_long)"
   ]
  }
 ],
 "metadata": {
  "kernelspec": {
   "display_name": "Python 3",
   "language": "python",
   "name": "python3"
  },
  "language_info": {
   "codemirror_mode": {
    "name": "ipython",
    "version": 3
   },
   "file_extension": ".py",
   "mimetype": "text/x-python",
   "name": "python",
   "nbconvert_exporter": "python",
   "pygments_lexer": "ipython3",
   "version": "3.10.12"
  }
 },
 "nbformat": 4,
 "nbformat_minor": 2
}
